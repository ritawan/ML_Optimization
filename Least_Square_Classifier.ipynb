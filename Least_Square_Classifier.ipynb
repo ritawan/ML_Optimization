{
 "cells": [
  {
   "cell_type": "markdown",
   "metadata": {
    "id": "JeBGIp24-PKf"
   },
   "source": [
    "# 1, Overview\n",
    "\n",
    "The goal of this project was to design multi-class classifier that builds on binary classifers using least squares regression model. MNIST dataset was used in the project to train and test the classifiers. Two type of multi-class classifers were designed: one-versus-one and one-versus-all. The performance of the two were compared based on confusion matrix and error rate."
   ]
  },
  {
   "cell_type": "code",
   "execution_count": null,
   "metadata": {
    "id": "WJkoCSiR-PKg"
   },
   "outputs": [],
   "source": [
    "# import python packages\n",
    "\n",
    "import pandas as pd\n",
    "import numpy as np\n",
    "import matplotlib.pyplot as plt\n",
    "import scipy\n",
    "from scipy.io import loadmat\n",
    "import math"
   ]
  },
  {
   "cell_type": "code",
   "execution_count": null,
   "metadata": {
    "id": "E4niYswm-PKh",
    "outputId": "31488247-855a-4355-dba0-c28b7115b8f5",
    "scrolled": true
   },
   "outputs": [
    {
     "name": "stdout",
     "output_type": "stream",
     "text": [
      "{'__header__': b'MATLAB 5.0 MAT-file Platform: posix, Created on: Wed Oct 18 19:00:09 2017', '__version__': '1.0', '__globals__': [], 'testX': array([[0, 0, 0, ..., 0, 0, 0],\n",
      "       [0, 0, 0, ..., 0, 0, 0],\n",
      "       [0, 0, 0, ..., 0, 0, 0],\n",
      "       ...,\n",
      "       [0, 0, 0, ..., 0, 0, 0],\n",
      "       [0, 0, 0, ..., 0, 0, 0],\n",
      "       [0, 0, 0, ..., 0, 0, 0]], dtype=uint8), 'testY': array([[7, 2, 1, ..., 4, 5, 6]], dtype=uint8), 'trainY': array([[5, 0, 4, ..., 5, 6, 8]], dtype=uint8), 'trainX': array([[0, 0, 0, ..., 0, 0, 0],\n",
      "       [0, 0, 0, ..., 0, 0, 0],\n",
      "       [0, 0, 0, ..., 0, 0, 0],\n",
      "       ...,\n",
      "       [0, 0, 0, ..., 0, 0, 0],\n",
      "       [0, 0, 0, ..., 0, 0, 0],\n",
      "       [0, 0, 0, ..., 0, 0, 0]], dtype=uint8)}\n",
      "(60000, 784)\n"
     ]
    }
   ],
   "source": [
    "X = loadmat(\"mnist.mat\") \n",
    "print(X)\n",
    "\n",
    "data_train = X['trainX'] # Training set digits \n",
    "data_label = X['trainY'] # Training set label\n",
    "\n",
    "data_testX = X['testX'] # Testing set digits\n",
    "data_testY = X['testY'] # Testing set labels\n",
    "\n",
    "print(data_train.shape) # There's 60000 images in the training set, each of them is 784-vector."
   ]
  },
  {
   "cell_type": "markdown",
   "metadata": {
    "id": "B66Bd1t9-PKi"
   },
   "source": [
    "# 2, Data Cleaning\n",
    "\n",
    "Each image(X) has 784 pixels. Some of the pixels are mostly zeros across all samples. As we can see from the below example, the color in the corner are white for most of the images. Thus, only the pixels that are non-zero for at least 600 images are selected for training and testing."
   ]
  },
  {
   "cell_type": "code",
   "execution_count": null,
   "metadata": {
    "id": "HodHm0Np-PKj",
    "outputId": "6cfd8e10-9ac4-4606-9a02-42f39c449da0"
   },
   "outputs": [
    {
     "name": "stdout",
     "output_type": "stream",
     "text": [
      "4\n",
      "5\n"
     ]
    },
    {
     "data": {
      "image/png": "[encoded data removed]",
      "text/plain": [
       "<Figure size 432x288 with 2 Axes>"
      ]
     },
     "metadata": {
      "needs_background": "light",
      "tags": []
     },
     "output_type": "display_data"
    }
   ],
   "source": [
    "# Get tenth image and show it\n",
    "plt.subplot(1,2,1)\n",
    "plt.imshow(data_train[9,:].reshape(28,28),cmap='binary')\n",
    "print(data_label[0,9])\n",
    "\n",
    "plt.title('Image visualization example')\n",
    "\n",
    "# Get first image and show it\n",
    "plt.subplot(1,2,2)\n",
    "plt.imshow(data_train[0,:].reshape(28,28),cmap='binary')\n",
    "print(data_label[0,0])\n"
   ]
  },
  {
   "cell_type": "code",
   "execution_count": null,
   "metadata": {
    "id": "eBllfSU0-PKj",
    "scrolled": true
   },
   "outputs": [],
   "source": [
    "# select only the pixels that are non-zero for at least 600 images.\n",
    "\n",
    "columns = []\n",
    "for j in range(len(data_train[0])):\n",
    "    count = 0\n",
    "    for i in range(len(data_train)):\n",
    "        if data_train[i,j] == 0:\n",
    "            count += 1\n",
    "            if count > 59400: # delet the pixel if it's zero for more than 59400 images\n",
    "                columns.append(j)\n",
    "data_train_clean = np.delete(data_train, columns, axis=1)\n",
    "data_testX_clean = np.delete(data_testX, columns, axis=1) "
   ]
  },
  {
   "cell_type": "code",
   "execution_count": null,
   "metadata": {
    "id": "ufVEahSk-PKk",
    "outputId": "a205138d-c268-43e9-fbc4-c2136bae7b7a"
   },
   "outputs": [
    {
     "data": {
      "text/plain": [
       "(10000, 493)"
      ]
     },
     "execution_count": 5,
     "metadata": {
      "tags": []
     },
     "output_type": "execute_result"
    }
   ],
   "source": [
    "data_testX_clean.shape "
   ]
  },
  {
   "cell_type": "code",
   "execution_count": null,
   "metadata": {
    "id": "n49yji8_-PKk",
    "outputId": "aabccca5-ed08-4aa3-99e1-9a867d3a7b82"
   },
   "outputs": [
    {
     "data": {
      "text/plain": [
       "(60000, 493)"
      ]
     },
     "execution_count": 15,
     "metadata": {
      "tags": []
     },
     "output_type": "execute_result"
    }
   ],
   "source": [
    "data_train_clean.shape"
   ]
  },
  {
   "cell_type": "markdown",
   "metadata": {
    "id": "s_56SxD9-PKk"
   },
   "source": [
    "After cleaning, each image(X) in both test set and training set contains 493 pixels."
   ]
  },
  {
   "cell_type": "markdown",
   "metadata": {
    "id": "oXjiTzim-PKl"
   },
   "source": [
    "# 3, One-versus-all Classifier\n",
    "\n",
    "## 3.1, Design of binary classifier for each label\n",
    "\n",
    "Each label y=k is treated as 1, and all y which is not k (y!=k) are treated as -1. As there's 10 type of label(0-9) in MNIST dataset, 10 binary classifiers are designed and used to build the one-versus-all classifier. For each testing X, the one-versus-all classifier is going to return the index of maximum function among the 10 binary classifiers.\n",
    "\n",
    "Following is the design of zero classifier."
   ]
  },
  {
   "cell_type": "code",
   "execution_count": null,
   "metadata": {
    "id": "zYBKsRtf-PKl"
   },
   "outputs": [],
   "source": [
    "A = np.c_[np.ones((data_train.shape[0],1)), data_train_clean] # design matrix A = [1 X]"
   ]
  },
  {
   "cell_type": "code",
   "execution_count": null,
   "metadata": {
    "id": "TV8ASPxT-PKl"
   },
   "outputs": [],
   "source": [
    "data_label = data_label.astype(np.int16)\n",
    "data_0 = data_label.copy()\n",
    "data_0[data_0 != 0] = -1 # treat y=k as 1\n",
    "data_0[data_0 == 0] = 1 # treat y!=k as -1"
   ]
  },
  {
   "cell_type": "code",
   "execution_count": null,
   "metadata": {
    "id": "VEDwMoQp-PKm",
    "outputId": "b14a0dcc-9bfc-406b-d7fe-34544af86f7c"
   },
   "outputs": [
    {
     "data": {
      "text/plain": [
       "array([[5, 0, 4, ..., 5, 6, 8]], dtype=int16)"
      ]
     },
     "execution_count": 22,
     "metadata": {
      "tags": []
     },
     "output_type": "execute_result"
    }
   ],
   "source": [
    "data_label"
   ]
  },
  {
   "cell_type": "markdown",
   "metadata": {
    "id": "6LrTGfxf-PKm"
   },
   "source": [
    "The following steps solve the equation A<sup>T</sup>·y = A<sup>T</sup>·A·x, where y is the training y and x gives the parameter for the classifer. This parameter gives the minimum distance between predicted y and true y."
   ]
  },
  {
   "cell_type": "code",
   "execution_count": null,
   "metadata": {
    "id": "TA_Q9IQ3-PKm"
   },
   "outputs": [],
   "source": [
    "A_In = A.T @ A\n",
    "A_0 = A.T @ data_0.T\n",
    "parameters_0 = np.linalg.lstsq(A_In, A_0, rcond=None)[0]    # Solve the matrix equation "
   ]
  },
  {
   "cell_type": "markdown",
   "metadata": {
    "id": "GVwZVrYT-PKm"
   },
   "source": [
    "The first element of the parameters is parameter alpha (a scalar), and the rest give parameter beta (a vector). "
   ]
  },
  {
   "cell_type": "code",
   "execution_count": null,
   "metadata": {
    "id": "dMCGmhpd-PKn",
    "outputId": "88ff4311-f935-420d-acdd-568b1ff09d9f"
   },
   "outputs": [
    {
     "data": {
      "text/plain": [
       "array([[-6.89659482e-01],\n",
       "       [-7.74225878e-05],\n",
       "       [-5.10303077e-05],\n",
       "       [-1.38501611e-04],\n",
       "       [ 1.87026718e-05],\n",
       "       [-4.04877796e-04],\n",
       "       [-1.25418137e-04],\n",
       "       [-8.65861843e-05],\n",
       "       [-3.76306953e-04],\n",
       "       [-3.72113921e-04],\n",
       "       [-1.33770667e-04],\n",
       "       [ 2.49282604e-04],\n",
       "       [-2.41585243e-04],\n",
       "       [ 1.85734999e-04],\n",
       "       [-1.95739759e-04],\n",
       "       [-1.05893342e-04],\n",
       "       [-8.46323052e-05],\n",
       "       [-1.53195027e-04],\n",
       "       [-4.13281322e-04],\n",
       "       [-1.64556723e-04],\n",
       "       [-4.22603825e-04],\n",
       "       [-6.19342280e-04],\n",
       "       [-2.12729828e-04],\n",
       "       [-1.24534232e-04],\n",
       "       [ 1.54845066e-04],\n",
       "       [-1.77631345e-04],\n",
       "       [-8.86685439e-05],\n",
       "       [-1.09696723e-04],\n",
       "       [ 1.00085237e-05],\n",
       "       [ 1.19312947e-04],\n",
       "       [-1.38545337e-04],\n",
       "       [ 1.52560525e-04],\n",
       "       [-6.68781723e-05],\n",
       "       [ 1.13898964e-05],\n",
       "       [-5.85627517e-06],\n",
       "       [ 9.28024706e-05],\n",
       "       [-2.16023594e-05],\n",
       "       [ 1.12432553e-04],\n",
       "       [-9.80811624e-05],\n",
       "       [-4.20526996e-04],\n",
       "       [-1.91353381e-04],\n",
       "       [ 1.89235422e-04],\n",
       "       [-6.91907278e-05],\n",
       "       [-1.08417936e-04],\n",
       "       [-9.22989553e-05],\n",
       "       [-7.01050705e-05],\n",
       "       [ 1.17247597e-06],\n",
       "       [-7.85147985e-05],\n",
       "       [ 1.41496176e-04],\n",
       "       [ 7.09187851e-06],\n",
       "       [ 7.94509184e-05],\n",
       "       [ 4.47897447e-05],\n",
       "       [ 6.66717718e-05],\n",
       "       [-5.64698181e-05],\n",
       "       [ 8.14337531e-05],\n",
       "       [-9.88252597e-05],\n",
       "       [-6.63040255e-05],\n",
       "       [-2.09977866e-04],\n",
       "       [-1.81004600e-04],\n",
       "       [-2.47617100e-04],\n",
       "       [ 4.25883208e-05],\n",
       "       [-1.27044578e-04],\n",
       "       [ 2.79945477e-05],\n",
       "       [-7.19809639e-05],\n",
       "       [ 6.01107943e-05],\n",
       "       [-1.13458010e-04],\n",
       "       [-9.38691476e-05],\n",
       "       [-4.78343938e-05],\n",
       "       [-1.07851952e-05],\n",
       "       [ 8.81188155e-05],\n",
       "       [ 3.18817925e-06],\n",
       "       [-2.58644150e-05],\n",
       "       [ 3.55381666e-05],\n",
       "       [-1.43745992e-05],\n",
       "       [ 4.85185117e-05],\n",
       "       [-6.37350394e-05],\n",
       "       [ 3.54518032e-06],\n",
       "       [ 7.09107335e-05],\n",
       "       [ 1.66203720e-05],\n",
       "       [-1.51663513e-04],\n",
       "       [-3.68154703e-04],\n",
       "       [-2.82729018e-04],\n",
       "       [ 2.12583824e-05],\n",
       "       [ 7.83604450e-05],\n",
       "       [ 6.34119028e-06],\n",
       "       [ 2.64332222e-05],\n",
       "       [-9.57869595e-05],\n",
       "       [ 1.48001602e-04],\n",
       "       [-5.99626768e-05],\n",
       "       [ 5.88610081e-05],\n",
       "       [ 6.17024022e-05],\n",
       "       [ 5.52249004e-05],\n",
       "       [ 1.55115289e-04],\n",
       "       [ 1.31073005e-04],\n",
       "       [ 2.04102673e-05],\n",
       "       [ 1.59536807e-04],\n",
       "       [ 9.85802087e-05],\n",
       "       [ 8.54506107e-05],\n",
       "       [-6.84167451e-05],\n",
       "       [-2.18157253e-05],\n",
       "       [ 1.16486034e-05],\n",
       "       [-6.04448276e-05],\n",
       "       [-4.47556562e-04],\n",
       "       [-1.70555960e-04],\n",
       "       [-1.69652994e-04],\n",
       "       [ 1.28457501e-06],\n",
       "       [-8.41254369e-05],\n",
       "       [ 1.42079509e-04],\n",
       "       [-4.23595988e-05],\n",
       "       [ 2.18735426e-05],\n",
       "       [-1.58457727e-05],\n",
       "       [ 1.47657382e-05],\n",
       "       [-5.03786541e-05],\n",
       "       [ 6.26043763e-05],\n",
       "       [ 1.93555399e-05],\n",
       "       [ 7.91006118e-05],\n",
       "       [ 7.01648584e-05],\n",
       "       [ 1.99115028e-04],\n",
       "       [ 5.27956668e-05],\n",
       "       [ 6.06470170e-05],\n",
       "       [ 3.82069511e-06],\n",
       "       [ 1.14003398e-04],\n",
       "       [-9.95279925e-05],\n",
       "       [ 3.61418207e-05],\n",
       "       [ 2.75632849e-05],\n",
       "       [-4.87891135e-04],\n",
       "       [-5.73201208e-04],\n",
       "       [ 1.04928460e-05],\n",
       "       [-9.07706194e-05],\n",
       "       [-6.40202050e-05],\n",
       "       [-9.78966815e-06],\n",
       "       [ 7.99674350e-05],\n",
       "       [ 4.70617797e-05],\n",
       "       [ 1.47363621e-05],\n",
       "       [ 2.98920741e-05],\n",
       "       [-6.97321105e-05],\n",
       "       [-2.58362391e-05],\n",
       "       [ 1.08967612e-04],\n",
       "       [ 1.01626217e-04],\n",
       "       [ 1.32531287e-04],\n",
       "       [ 1.78537618e-05],\n",
       "       [ 5.07950902e-05],\n",
       "       [ 2.87906906e-05],\n",
       "       [ 1.61479402e-04],\n",
       "       [ 3.99385720e-05],\n",
       "       [ 8.90672352e-05],\n",
       "       [-1.45754665e-04],\n",
       "       [ 1.09324628e-04],\n",
       "       [-1.90271552e-04],\n",
       "       [-6.46659057e-04],\n",
       "       [-2.76440001e-04],\n",
       "       [ 3.77545930e-05],\n",
       "       [ 7.24309399e-05],\n",
       "       [-7.66943955e-06],\n",
       "       [-6.49987642e-05],\n",
       "       [-7.16651854e-05],\n",
       "       [ 1.03572269e-04],\n",
       "       [-1.66994227e-05],\n",
       "       [ 3.99912855e-05],\n",
       "       [ 6.00686870e-05],\n",
       "       [ 3.47293021e-05],\n",
       "       [ 3.79471181e-05],\n",
       "       [ 1.05909523e-04],\n",
       "       [ 7.06298451e-05],\n",
       "       [ 1.34858373e-04],\n",
       "       [ 1.38787132e-04],\n",
       "       [ 3.16136051e-05],\n",
       "       [ 2.67581570e-04],\n",
       "       [ 1.19306568e-04],\n",
       "       [ 1.80821956e-04],\n",
       "       [ 3.16787557e-04],\n",
       "       [-9.21311388e-05],\n",
       "       [-1.69730199e-03],\n",
       "       [-4.79843042e-05],\n",
       "       [-2.64366639e-04],\n",
       "       [-1.32262929e-06],\n",
       "       [ 8.48750467e-05],\n",
       "       [ 4.64765704e-05],\n",
       "       [-3.85383653e-05],\n",
       "       [ 8.97583451e-05],\n",
       "       [ 5.51945037e-05],\n",
       "       [-7.58539503e-05],\n",
       "       [-9.82411463e-06],\n",
       "       [-1.62707387e-04],\n",
       "       [-9.63673666e-05],\n",
       "       [-7.81012982e-05],\n",
       "       [-1.17491097e-06],\n",
       "       [ 3.21097545e-05],\n",
       "       [ 1.54263427e-04],\n",
       "       [ 7.54940265e-05],\n",
       "       [ 2.52717654e-04],\n",
       "       [ 4.75915625e-05],\n",
       "       [ 2.92993935e-04],\n",
       "       [ 7.57315404e-05],\n",
       "       [-3.02043663e-04],\n",
       "       [-3.48491467e-05],\n",
       "       [ 6.46630583e-05],\n",
       "       [-6.00965412e-05],\n",
       "       [ 7.15463819e-05],\n",
       "       [ 3.18137468e-05],\n",
       "       [ 6.97796957e-05],\n",
       "       [-8.91712954e-05],\n",
       "       [ 5.83551838e-05],\n",
       "       [-4.85017496e-05],\n",
       "       [-2.95893034e-04],\n",
       "       [-1.16064803e-04],\n",
       "       [-1.62329008e-04],\n",
       "       [-1.24404768e-04],\n",
       "       [-1.41623798e-04],\n",
       "       [-1.02126226e-04],\n",
       "       [ 9.57514616e-05],\n",
       "       [ 5.02588729e-05],\n",
       "       [ 1.07915570e-04],\n",
       "       [ 5.28688833e-04],\n",
       "       [ 2.78850078e-04],\n",
       "       [-4.42848971e-05],\n",
       "       [-1.38354063e-05],\n",
       "       [-7.93139029e-05],\n",
       "       [ 7.62827629e-05],\n",
       "       [-8.64003483e-05],\n",
       "       [ 6.62879616e-05],\n",
       "       [ 4.41484921e-05],\n",
       "       [ 2.51303761e-05],\n",
       "       [-1.07259835e-04],\n",
       "       [-1.64774588e-04],\n",
       "       [-2.04749008e-04],\n",
       "       [-1.01246782e-04],\n",
       "       [-9.34288921e-05],\n",
       "       [-1.89255614e-04],\n",
       "       [-2.02527445e-04],\n",
       "       [-9.31264391e-05],\n",
       "       [-1.72386614e-04],\n",
       "       [ 6.61063254e-05],\n",
       "       [ 3.48365596e-04],\n",
       "       [ 2.82230680e-04],\n",
       "       [-3.78223910e-04],\n",
       "       [-6.17564816e-04],\n",
       "       [ 1.07166084e-04],\n",
       "       [ 1.53573786e-04],\n",
       "       [ 1.00163664e-04],\n",
       "       [ 6.04273545e-05],\n",
       "       [ 7.62792368e-05],\n",
       "       [ 1.95283582e-04],\n",
       "       [ 1.49934081e-06],\n",
       "       [-1.73832558e-04],\n",
       "       [ 2.66337004e-05],\n",
       "       [-2.73537672e-04],\n",
       "       [ 2.04806205e-05],\n",
       "       [-1.55425627e-04],\n",
       "       [-1.65326742e-04],\n",
       "       [-1.16560766e-04],\n",
       "       [-1.54268602e-04],\n",
       "       [ 7.01167345e-05],\n",
       "       [ 3.14155165e-04],\n",
       "       [ 3.41430019e-06],\n",
       "       [ 1.21058378e-04],\n",
       "       [ 6.55463818e-05],\n",
       "       [ 1.13268590e-04],\n",
       "       [ 2.52090853e-04],\n",
       "       [-1.56867547e-04],\n",
       "       [ 1.41648347e-04],\n",
       "       [ 1.26536193e-04],\n",
       "       [ 1.49427413e-04],\n",
       "       [ 1.23973422e-04],\n",
       "       [-5.83761513e-05],\n",
       "       [-1.27954899e-04],\n",
       "       [-8.90090711e-05],\n",
       "       [-2.24985970e-04],\n",
       "       [-3.10027150e-05],\n",
       "       [-1.89535869e-04],\n",
       "       [-1.61411477e-04],\n",
       "       [-1.12562089e-04],\n",
       "       [-5.44292600e-05],\n",
       "       [ 1.26407238e-04],\n",
       "       [-7.32735299e-06],\n",
       "       [-1.64029205e-05],\n",
       "       [ 1.11565903e-04],\n",
       "       [-1.62866055e-04],\n",
       "       [-1.52676088e-04],\n",
       "       [ 7.46228003e-05],\n",
       "       [ 9.75369438e-05],\n",
       "       [ 2.63613525e-05],\n",
       "       [ 1.11482595e-04],\n",
       "       [ 3.68180577e-05],\n",
       "       [ 8.80575945e-05],\n",
       "       [-4.06799093e-05],\n",
       "       [-2.21478646e-04],\n",
       "       [-1.42314915e-04],\n",
       "       [-1.38405681e-04],\n",
       "       [-1.17172632e-04],\n",
       "       [-1.64643724e-04],\n",
       "       [-1.71379191e-04],\n",
       "       [-2.23024440e-05],\n",
       "       [ 5.20419551e-05],\n",
       "       [ 4.82242203e-05],\n",
       "       [ 2.87131698e-05],\n",
       "       [-2.06612616e-04],\n",
       "       [ 1.13486403e-04],\n",
       "       [ 9.21012563e-05],\n",
       "       [-3.64397575e-04],\n",
       "       [ 5.52203104e-05],\n",
       "       [ 1.17315737e-04],\n",
       "       [ 1.21096296e-04],\n",
       "       [ 9.50111803e-05],\n",
       "       [-1.53157892e-05],\n",
       "       [ 5.69051003e-05],\n",
       "       [ 6.97263423e-05],\n",
       "       [-6.15471824e-05],\n",
       "       [-5.45398152e-05],\n",
       "       [-1.79984279e-04],\n",
       "       [-2.19395084e-04],\n",
       "       [-1.87536571e-04],\n",
       "       [-6.79134032e-05],\n",
       "       [ 4.27902519e-05],\n",
       "       [-4.76713579e-07],\n",
       "       [ 9.34969854e-05],\n",
       "       [-4.14840716e-05],\n",
       "       [-5.67624400e-05],\n",
       "       [ 2.20794847e-04],\n",
       "       [-8.68934089e-05],\n",
       "       [ 2.15799057e-05],\n",
       "       [ 2.04228780e-04],\n",
       "       [-1.15986991e-03],\n",
       "       [-1.11899748e-05],\n",
       "       [ 1.39291913e-04],\n",
       "       [-4.18906407e-05],\n",
       "       [ 1.54920911e-04],\n",
       "       [ 1.35013603e-04],\n",
       "       [ 1.04821480e-05],\n",
       "       [-3.58075540e-05],\n",
       "       [ 3.71716256e-05],\n",
       "       [-1.03238358e-04],\n",
       "       [-6.86051664e-05],\n",
       "       [-1.15813157e-04],\n",
       "       [ 1.01386718e-05],\n",
       "       [-5.29196858e-05],\n",
       "       [-3.88368861e-05],\n",
       "       [-5.57724295e-05],\n",
       "       [-5.61593349e-06],\n",
       "       [-1.13750195e-04],\n",
       "       [-2.56691777e-05],\n",
       "       [-1.87204492e-05],\n",
       "       [-2.99440871e-04],\n",
       "       [ 2.45156869e-04],\n",
       "       [-3.33877820e-04],\n",
       "       [ 2.16888990e-04],\n",
       "       [-5.47103574e-05],\n",
       "       [-1.03057922e-04],\n",
       "       [ 5.37044870e-05],\n",
       "       [ 1.02825993e-04],\n",
       "       [ 4.20790429e-05],\n",
       "       [ 1.45631732e-04],\n",
       "       [-2.26885711e-05],\n",
       "       [ 7.30535943e-05],\n",
       "       [ 4.69098388e-05],\n",
       "       [ 4.60407374e-05],\n",
       "       [ 6.75518226e-06],\n",
       "       [-4.17777607e-05],\n",
       "       [-1.44327328e-05],\n",
       "       [ 8.92299015e-06],\n",
       "       [-1.89328520e-06],\n",
       "       [-4.95069974e-05],\n",
       "       [ 3.61529422e-05],\n",
       "       [-4.28152995e-05],\n",
       "       [ 1.72872135e-05],\n",
       "       [ 4.22082687e-05],\n",
       "       [-9.76719177e-05],\n",
       "       [-3.89619134e-04],\n",
       "       [-1.15889272e-04],\n",
       "       [ 7.07617416e-05],\n",
       "       [-4.59434393e-05],\n",
       "       [-1.69890985e-05],\n",
       "       [ 4.44475599e-05],\n",
       "       [ 5.67050596e-07],\n",
       "       [ 8.55988105e-05],\n",
       "       [ 8.28974635e-07],\n",
       "       [ 8.91997619e-05],\n",
       "       [ 5.63444529e-05],\n",
       "       [ 5.71764724e-07],\n",
       "       [ 2.37225524e-05],\n",
       "       [-9.67337197e-05],\n",
       "       [ 3.37222340e-05],\n",
       "       [-7.36526672e-05],\n",
       "       [ 4.07428088e-06],\n",
       "       [-7.59855943e-05],\n",
       "       [ 1.15194349e-04],\n",
       "       [-6.75923362e-05],\n",
       "       [-2.43500083e-04],\n",
       "       [ 1.14547036e-04],\n",
       "       [-2.03003199e-05],\n",
       "       [ 2.18362844e-04],\n",
       "       [-1.17048312e-04],\n",
       "       [-1.96530080e-05],\n",
       "       [-3.84003396e-05],\n",
       "       [-2.93637628e-05],\n",
       "       [ 1.08487466e-04],\n",
       "       [ 6.25958260e-05],\n",
       "       [ 8.70510399e-05],\n",
       "       [-1.31381621e-05],\n",
       "       [-5.28230260e-05],\n",
       "       [ 1.46977115e-05],\n",
       "       [ 9.43928867e-05],\n",
       "       [ 1.82672130e-05],\n",
       "       [-9.87539891e-05],\n",
       "       [ 1.65820315e-05],\n",
       "       [-2.79613815e-05],\n",
       "       [-1.72399189e-05],\n",
       "       [-6.85353330e-05],\n",
       "       [ 5.12535272e-05],\n",
       "       [-1.80467674e-04],\n",
       "       [ 1.70086144e-04],\n",
       "       [ 3.22498966e-05],\n",
       "       [-4.73855386e-04],\n",
       "       [ 1.02153495e-04],\n",
       "       [ 1.40235057e-04],\n",
       "       [ 3.51426250e-05],\n",
       "       [ 1.96504901e-05],\n",
       "       [ 6.63101783e-05],\n",
       "       [ 1.40139747e-05],\n",
       "       [ 7.69365128e-05],\n",
       "       [ 6.74941716e-05],\n",
       "       [ 1.64829320e-04],\n",
       "       [ 5.20447052e-05],\n",
       "       [-4.85448440e-05],\n",
       "       [-2.23443373e-05],\n",
       "       [-9.75172010e-06],\n",
       "       [-1.35200938e-04],\n",
       "       [ 6.51567349e-05],\n",
       "       [-1.74112325e-04],\n",
       "       [ 6.16935021e-05],\n",
       "       [ 6.72873834e-05],\n",
       "       [-3.32341603e-05],\n",
       "       [-1.68374363e-04],\n",
       "       [-2.04806005e-05],\n",
       "       [-2.43286118e-04],\n",
       "       [ 1.04543428e-04],\n",
       "       [-8.06817400e-05],\n",
       "       [ 5.54492797e-05],\n",
       "       [ 8.32907299e-06],\n",
       "       [ 8.34844930e-05],\n",
       "       [ 1.01317023e-04],\n",
       "       [ 9.16822666e-06],\n",
       "       [ 1.15777897e-04],\n",
       "       [ 1.45331066e-04],\n",
       "       [ 7.86707743e-05],\n",
       "       [ 8.29823333e-05],\n",
       "       [-7.72199776e-05],\n",
       "       [-8.69541788e-05],\n",
       "       [-5.98067207e-05],\n",
       "       [-1.49756800e-04],\n",
       "       [-1.07993404e-04],\n",
       "       [-3.71024504e-04],\n",
       "       [ 3.29715219e-04],\n",
       "       [-1.44044715e-04],\n",
       "       [ 1.44955022e-05],\n",
       "       [-1.07192367e-04],\n",
       "       [-2.18826124e-05],\n",
       "       [-1.78362643e-04],\n",
       "       [-5.43709071e-05],\n",
       "       [-6.93709992e-05],\n",
       "       [-1.24647765e-04],\n",
       "       [-5.27306819e-05],\n",
       "       [-1.41210749e-05],\n",
       "       [ 2.20694690e-05],\n",
       "       [ 1.49325629e-04],\n",
       "       [-3.33264992e-05],\n",
       "       [ 2.24019112e-04],\n",
       "       [-1.78590748e-04],\n",
       "       [-6.09857522e-04],\n",
       "       [-4.32281439e-04],\n",
       "       [-1.73774005e-04],\n",
       "       [-2.01372555e-04],\n",
       "       [-2.39638326e-04],\n",
       "       [-1.18118597e-04],\n",
       "       [-2.46015009e-04],\n",
       "       [-1.18847077e-04],\n",
       "       [-1.66123581e-04],\n",
       "       [-3.29238347e-05],\n",
       "       [-1.14974331e-04],\n",
       "       [-1.32599990e-04],\n",
       "       [-7.75586059e-05],\n",
       "       [ 3.29823637e-05],\n",
       "       [-2.98750646e-04],\n",
       "       [-4.40749279e-04],\n",
       "       [-3.66010485e-04],\n",
       "       [-2.44748530e-04],\n",
       "       [-3.58347781e-04],\n",
       "       [-1.95097391e-04],\n",
       "       [-3.46650556e-04],\n",
       "       [-2.55974107e-04],\n",
       "       [-4.04438546e-04],\n",
       "       [-2.32361503e-04],\n",
       "       [-1.88998033e-04],\n",
       "       [-3.27235079e-04]])"
      ]
     },
     "execution_count": 24,
     "metadata": {
      "tags": []
     },
     "output_type": "execute_result"
    }
   ],
   "source": [
    "parameters_0"
   ]
  },
  {
   "cell_type": "code",
   "execution_count": null,
   "metadata": {
    "id": "J1ubIcFG-PKn"
   },
   "outputs": [],
   "source": [
    "def identify_0(M):\n",
    "    \n",
    "    # y_predicted = beta·X+alpha\n",
    "    \n",
    "    y_predicted = parameters_0[1:].T @ M.reshape(493,1) + parameters_0[0][0].T\n",
    "    y_predicted = y_predicted.reshape(-1)[0]\n",
    "    return y_predicted"
   ]
  },
  {
   "cell_type": "code",
   "execution_count": null,
   "metadata": {
    "id": "MouksLNc-PKn",
    "outputId": "8932937d-de1a-4cbc-c0a7-ad24c6dc68c7"
   },
   "outputs": [
    {
     "data": {
      "text/plain": [
       "0.7648597110373123"
      ]
     },
     "execution_count": 26,
     "metadata": {
      "tags": []
     },
     "output_type": "execute_result"
    }
   ],
   "source": [
    "identify_0(data_train_clean[1])"
   ]
  },
  {
   "cell_type": "markdown",
   "metadata": {
    "id": "YPusS2V9-PKo"
   },
   "source": [
    "The binary classifier gives an output between -1 and 1. If output>0, predicted_y = k. If output<0, predicted_y != k. However, we would not apply the sign function here, as we need the original output as float for comparison in the one-versus-all classifier.\n",
    "\n",
    "Following are the design of the other 9 binary classifiers. The algorism is the same as zero classifier."
   ]
  },
  {
   "cell_type": "code",
   "execution_count": null,
   "metadata": {
    "id": "p0mehc-0-PKo"
   },
   "outputs": [],
   "source": [
    "data_1 = data_label.copy()\n",
    "data_1[data_1 != 1] = -1\n",
    "data_1[data_1 == 1] = 1"
   ]
  },
  {
   "cell_type": "code",
   "execution_count": null,
   "metadata": {
    "id": "TJEoWCk4-PKp"
   },
   "outputs": [],
   "source": [
    "A_1 = A.T @ data_1.T\n",
    "parameters_1 = np.linalg.lstsq(A_In, A_1, rcond=None)[0]   \n",
    "\n",
    "def identify_1(M):\n",
    "    y_predicted = parameters_1[1:].T @ M.reshape(493,1) + parameters_1[0][0].T\n",
    "    y_predicted = y_predicted.reshape(-1)[0]\n",
    "    return y_predicted"
   ]
  },
  {
   "cell_type": "code",
   "execution_count": null,
   "metadata": {
    "id": "s2AnD9ur-PKp"
   },
   "outputs": [],
   "source": [
    "data_2 = data_label.copy()\n",
    "data_2[data_2 != 2] = -1\n",
    "data_2[data_2 == 2] = 1"
   ]
  },
  {
   "cell_type": "code",
   "execution_count": null,
   "metadata": {
    "id": "Q_xineLP-PKp"
   },
   "outputs": [],
   "source": [
    "A_2 = A.T @ data_2.T\n",
    "parameters_2 = np.linalg.lstsq(A_In, A_2, rcond=None)[0] \n",
    "\n",
    "def identify_2(M):\n",
    "    y_predicted = parameters_2[1:].T @ M.reshape(493,1) + parameters_2[0][0].T\n",
    "    y_predicted = y_predicted.reshape(-1)[0]\n",
    "    return y_predicted"
   ]
  },
  {
   "cell_type": "code",
   "execution_count": null,
   "metadata": {
    "id": "ICg7xLwv-PKp"
   },
   "outputs": [],
   "source": [
    "data_3 = data_label.copy()\n",
    "data_3[data_3 != 3] = -1\n",
    "data_3[data_3 == 3] = 1"
   ]
  },
  {
   "cell_type": "code",
   "execution_count": null,
   "metadata": {
    "id": "yis_WgIO-PKq"
   },
   "outputs": [],
   "source": [
    "A_3 = A.T @ data_3.T\n",
    "parameters_3 = np.linalg.lstsq(A_In, A_3, rcond=None)[0]  \n",
    "\n",
    "def identify_3(M):\n",
    "    y_predicted = parameters_3[1:].T @ M.reshape(493,1) + parameters_3[0][0].T\n",
    "    y_predicted = y_predicted.reshape(-1)[0]\n",
    "    return y_predicted"
   ]
  },
  {
   "cell_type": "code",
   "execution_count": null,
   "metadata": {
    "id": "YfdGGWqY-PKq"
   },
   "outputs": [],
   "source": [
    "data_4 = data_label.copy()\n",
    "data_4[data_4 != 4] = -1\n",
    "data_4[data_4 == 4] = 1"
   ]
  },
  {
   "cell_type": "code",
   "execution_count": null,
   "metadata": {
    "id": "GK6Uwsvt-PKq"
   },
   "outputs": [],
   "source": [
    "A_4 = A.T @ data_4.T\n",
    "parameters_4 = np.linalg.lstsq(A_In, A_4, rcond=None)[0]  \n",
    "\n",
    "def identify_4(M):\n",
    "    y_predicted = parameters_4[1:].T @ M.reshape(493,1) + parameters_4[0][0].T\n",
    "    y_predicted = y_predicted.reshape(-1)[0]\n",
    "    return y_predicted"
   ]
  },
  {
   "cell_type": "code",
   "execution_count": null,
   "metadata": {
    "id": "-PHuLt0F-PKq"
   },
   "outputs": [],
   "source": [
    "data_5 = data_label.copy()\n",
    "data_5[data_5 != 5] = -1\n",
    "data_5[data_5 == 5] = 1\n",
    "A_5 = A.T @ data_5.T\n",
    "parameters_5 = np.linalg.lstsq(A_In, A_5, rcond=None)[0]  \n",
    "\n",
    "def identify_5(M):\n",
    "    y_predicted = parameters_5[1:].T @ M.reshape(493,1) + parameters_5[0][0].T\n",
    "    y_predicted = y_predicted.reshape(-1)[0]\n",
    "    return y_predicted"
   ]
  },
  {
   "cell_type": "code",
   "execution_count": null,
   "metadata": {
    "id": "zm-Mpu1O-PKr"
   },
   "outputs": [],
   "source": [
    "data_6 = data_label.copy()\n",
    "data_6[data_6 != 6] = -1\n",
    "data_6[data_6 == 6] = 1\n",
    "A_6 = A.T @ data_6.T\n",
    "parameters_6 = np.linalg.lstsq(A_In, A_6, rcond=None)[0]  \n",
    "def identify_6(M):\n",
    "    y_predicted = parameters_6[1:].T @ M.reshape(493,1) + parameters_6[0][0].T\n",
    "    y_predicted = y_predicted.reshape(-1)[0]\n",
    "    return y_predicted"
   ]
  },
  {
   "cell_type": "code",
   "execution_count": null,
   "metadata": {
    "id": "C8eH0a_H-PKr"
   },
   "outputs": [],
   "source": [
    "data_7 = data_label.copy()\n",
    "data_7[data_7 != 7] = -1\n",
    "data_7[data_7 == 7] = 1\n",
    "A_7 = A.T @ data_7.T\n",
    "parameters_7 = np.linalg.lstsq(A_In, A_7, rcond=None)[0]  \n",
    "\n",
    "def identify_7(M):\n",
    "    y_predicted = parameters_7[1:].T @ M.reshape(493,1) + parameters_7[0][0].T\n",
    "    y_predicted = y_predicted.reshape(-1)[0]\n",
    "    return y_predicted"
   ]
  },
  {
   "cell_type": "code",
   "execution_count": null,
   "metadata": {
    "id": "YZ7UpPFK-PKs"
   },
   "outputs": [],
   "source": [
    "data_8 = data_label.copy()\n",
    "data_8[data_8 != 8] = -1\n",
    "data_8[data_8 == 8] = 1\n",
    "A_8 = A.T @ data_8.T\n",
    "parameters_8 = np.linalg.lstsq(A_In, A_8, rcond=None)[0] \n",
    "\n",
    "def identify_8(M):\n",
    "    y_predicted = parameters_8[1:].T @ M.reshape(493,1) + parameters_8[0][0].T\n",
    "    y_predicted = y_predicted.reshape(-1)[0]\n",
    "    return y_predicted"
   ]
  },
  {
   "cell_type": "code",
   "execution_count": null,
   "metadata": {
    "id": "Uas0u4MP-PKt"
   },
   "outputs": [],
   "source": [
    "data_9 = data_label.copy()\n",
    "data_9[data_9 != 9] = -1\n",
    "data_9[data_9 == 9] = 1\n",
    "A_9 = A.T @ data_9.T\n",
    "parameters_9 = np.linalg.lstsq(A_In, A_9, rcond=None)[0]  \n",
    "def identify_9(M):\n",
    "    y_predicted = parameters_9[1:].T @ M.reshape(493,1) + parameters_9[0][0].T\n",
    "    y_predicted = y_predicted.reshape(-1)[0]\n",
    "    return y_predicted"
   ]
  },
  {
   "cell_type": "markdown",
   "metadata": {
    "id": "NF5xOO_p-PKt"
   },
   "source": [
    "## 3.2, Design of the one-versus-all classifier"
   ]
  },
  {
   "cell_type": "code",
   "execution_count": null,
   "metadata": {
    "id": "CJFm-BPN-PKu"
   },
   "outputs": [],
   "source": [
    "def one_vs_all(X):\n",
    "    \n",
    "    # get the predicted value from all 10 binary classifiers\n",
    "    p_9 = identify_9(X)\n",
    "    p_8 = identify_8(X)\n",
    "    p_7 = identify_7(X)\n",
    "    p_6 = identify_6(X)\n",
    "    p_5 = identify_5(X)\n",
    "    p_4 = identify_4(X)\n",
    "    p_3 = identify_3(X)\n",
    "    p_2 = identify_2(X)\n",
    "    p_1 = identify_1(X)\n",
    "    p_0 = identify_0(X)\n",
    "    \n",
    "    # get the index of the maximum value\n",
    "    scores = np.array([p_0,p_1,p_2,p_3,p_4,p_5,p_6,p_7,p_8,p_9])\n",
    "    return np.argmax(scores)\n"
   ]
  },
  {
   "cell_type": "markdown",
   "metadata": {
    "id": "HsfLKUpI-PKu"
   },
   "source": [
    "For each testing X, the one-versus-all classifier is going to return the index of maximum function among the 10 binary classifiers. The returning value is the predicted y."
   ]
  },
  {
   "cell_type": "code",
   "execution_count": null,
   "metadata": {
    "id": "KZ-AtwE5-PKu"
   },
   "outputs": [],
   "source": [
    "def get_predicted(method,X):\n",
    "    y_predicted = []\n",
    "    for i in range(len(X)):\n",
    "        y_predicted.append(method(X[i]))\n",
    "    return y_predicted"
   ]
  },
  {
   "cell_type": "markdown",
   "metadata": {
    "id": "ePeB5cjw-PKu"
   },
   "source": [
    "The above function takes a method (one-versus-all or one-versus-one) and an array of X as input, and returns an array of predicted y."
   ]
  },
  {
   "cell_type": "code",
   "execution_count": null,
   "metadata": {
    "id": "KnUbyWVZ-PKu"
   },
   "outputs": [],
   "source": [
    "def get_confusion(method,X,true_Y):\n",
    "    confusion_M = np.zeros((10,10))\n",
    "    true_Y = true_Y.reshape(-1)\n",
    "    y_predicted = get_predicted(method,X)\n",
    "    errors = 0\n",
    "    for i in range(len(y_predicted)):\n",
    "        confusion_M[true_Y[i]][y_predicted[i]]+= 1\n",
    "        if y_predicted[i]!=true_Y[i]:\n",
    "            errors += 1\n",
    "    error_rate = errors/len(y_predicted)\n",
    "    return confusion_M.astype(int), error_rate\n",
    "    "
   ]
  },
  {
   "cell_type": "markdown",
   "metadata": {
    "id": "pH0IKwAw-PKv"
   },
   "source": [
    "The above function takes a method (one-versus-all or one-versus-one), an array of testX, and an array of testY as input, and returns an confusion matrix and error rate."
   ]
  },
  {
   "cell_type": "markdown",
   "metadata": {
    "id": "_sGuWkHj-PKv"
   },
   "source": [
    "## 3.3 Evaluation\n",
    "\n",
    "### 3.3.1 Evaluation on training set"
   ]
  },
  {
   "cell_type": "code",
   "execution_count": null,
   "metadata": {
    "id": "1YeCYhqL-PKv"
   },
   "outputs": [],
   "source": [
    "confusion_M_1_train, error_rate_1_train = get_confusion(one_vs_all, data_train_clean, data_label)"
   ]
  },
  {
   "cell_type": "code",
   "execution_count": null,
   "metadata": {
    "id": "YbYJa0ho-PKv",
    "outputId": "4792c2f9-fddb-439e-fb7d-d2edcf524e26"
   },
   "outputs": [
    {
     "data": {
      "text/plain": [
       "array([[5669,    8,   21,   19,   25,   46,   65,    4,   60,    6],\n",
       "       [   2, 6543,   36,   17,   20,   30,   14,   14,   60,    6],\n",
       "       [  99,  278, 4757,  153,  116,   17,  234,   92,  190,   22],\n",
       "       [  38,  172,  174, 5150,   31,  122,   59,  122,  135,  128],\n",
       "       [  13,  104,   41,    5, 5189,   52,   45,   24,   60,  309],\n",
       "       [ 164,   94,   30,  448,  103, 3974,  185,   44,  237,  142],\n",
       "       [ 104,   78,   77,    2,   64,  106, 5448,    0,   36,    3],\n",
       "       [  55,  191,   36,   48,  165,    9,    4, 5443,   13,  301],\n",
       "       [  69,  492,   64,  225,  102,  220,   64,   21, 4417,  177],\n",
       "       [  67,   66,   26,  115,  365,   12,    4,  513,   39, 4742]])"
      ]
     },
     "execution_count": 51,
     "metadata": {
      "tags": []
     },
     "output_type": "execute_result"
    }
   ],
   "source": [
    "confusion_M_1_train # confusion_M[i,j] represents that i is classified as j"
   ]
  },
  {
   "cell_type": "code",
   "execution_count": null,
   "metadata": {
    "id": "vLebVUhM-PKv",
    "outputId": "27b13bb8-9c65-446f-9906-7d32d7c1de0f"
   },
   "outputs": [
    {
     "data": {
      "text/plain": [
       "0.14446666666666666"
      ]
     },
     "execution_count": 50,
     "metadata": {
      "tags": []
     },
     "output_type": "execute_result"
    }
   ],
   "source": [
    "error_rate_1_train"
   ]
  },
  {
   "cell_type": "markdown",
   "metadata": {
    "id": "VTDcBfDA-PKw"
   },
   "source": [
    "The error rate for training set is 14.44% > 10%, which is relatively high. Thus, the connection between data and label is probably not very high based on this classifier. \n",
    "\n",
    "The confusion matrix shows significanly larger value in diagonal than in elsewhere, which indicates most values are classified correctly. However, there're still a significant amount of images get misclassified. For example, 278 images that are digit 1 get classifed as digit 2.\n",
    "\n",
    "Based on error rate and confusion matrix, the training error of the one-versus-all classifier is relatively high."
   ]
  },
  {
   "cell_type": "markdown",
   "metadata": {
    "id": "ztbWwR4_-PKw"
   },
   "source": [
    "### 3.3.2 Evaluation on testing set"
   ]
  },
  {
   "cell_type": "code",
   "execution_count": null,
   "metadata": {
    "id": "efN4laR_-PKw"
   },
   "outputs": [],
   "source": [
    "confusion_M_1_test, error_rate_1_test = get_confusion(one_vs_all, data_testX_clean, data_testY)"
   ]
  },
  {
   "cell_type": "code",
   "execution_count": null,
   "metadata": {
    "id": "RsNKoneQ-PKx",
    "outputId": "7f89c2e8-5ccc-4960-a5ad-fd0d1442c401"
   },
   "outputs": [
    {
     "data": {
      "text/plain": [
       "array([[ 944,    0,    1,    2,    2,    8,   13,    2,    7,    1],\n",
       "       [   0, 1107,    2,    2,    3,    1,    5,    1,   14,    0],\n",
       "       [  18,   54,  815,   26,   16,    0,   38,   22,   39,    4],\n",
       "       [   4,   18,   22,  884,    5,   16,   10,   22,   20,    9],\n",
       "       [   0,   22,    6,    0,  883,    3,    9,    1,   12,   46],\n",
       "       [  24,   19,    3,   74,   24,  656,   24,   13,   38,   17],\n",
       "       [  17,    9,   10,    0,   22,   17,  876,    0,    7,    0],\n",
       "       [   5,   43,   14,    6,   25,    1,    1,  883,    1,   49],\n",
       "       [  14,   48,   11,   31,   26,   40,   17,   13,  756,   18],\n",
       "       [  16,   10,    3,   17,   80,    0,    1,   75,    4,  803]])"
      ]
     },
     "execution_count": 54,
     "metadata": {
      "tags": []
     },
     "output_type": "execute_result"
    }
   ],
   "source": [
    "confusion_M_1_test"
   ]
  },
  {
   "cell_type": "code",
   "execution_count": null,
   "metadata": {
    "id": "z4T9ApLm-PKx",
    "outputId": "6bd24ed2-8d54-45d4-dda9-61490c2a2657"
   },
   "outputs": [
    {
     "name": "stdout",
     "output_type": "stream",
     "text": [
      "[ 980 1135 1032 1010  982  892  958 1028  974 1009]\n",
      "[1042 1330  887 1042 1086  742  994 1032  898  947]\n"
     ]
    }
   ],
   "source": [
    "print(confusion_M_1_test.sum(axis=1)) # number of digits that are i\n",
    "print(confusion_M_1_test.sum(axis=0)) #  number of digits classified as i"
   ]
  },
  {
   "cell_type": "code",
   "execution_count": null,
   "metadata": {
    "id": "N_WUAyam-PKx",
    "outputId": "69e124dc-1d19-4604-fa1d-3b6e54711826"
   },
   "outputs": [
    {
     "data": {
      "text/plain": [
       "0.1393"
      ]
     },
     "execution_count": 55,
     "metadata": {
      "tags": []
     },
     "output_type": "execute_result"
    }
   ],
   "source": [
    "error_rate_1_test"
   ]
  },
  {
   "cell_type": "markdown",
   "metadata": {
    "id": "tRghwrCp-PKx"
   },
   "source": [
    "The error rate for training set is 13.93% > 10%, which is relatively high. Thus, the prediction on testing set is not very accurate.\n",
    "\n",
    "The confusion matrix shows significanly larger value in diagonal than in elsewhere, which indicates most values are classified correctly. However, as the same as the training set, there're still a significant amount of images get misclassified. Digits 1 and 0 are easy to classify, while digits 4,5,7,8,9 are harder. Digits 4 and 9, 5 and 8, 6 and 8, 7 and 9 are easy to get confused, so they are harder to classifed.\n",
    "\n",
    "Based on error rate and confusion matrix, the prediction of the one-versus-all classifier is not very accurate."
   ]
  },
  {
   "cell_type": "markdown",
   "metadata": {
    "id": "BRCi24L--PKy"
   },
   "source": [
    "# 4, One-versus-one Classifier\n",
    "\n",
    "## 4.1, Design of pairwise classifiers\n",
    "\n",
    "A boolean classifer is designed for each pair i,j. Each y=i is treated as -1, and each y=j is treated as 1. For each i-versus-j classifier, if y_predicted = -1, it will \"vote\" for class i, and if y_predicted = 1, it will vote for class j. As total label(class) is 10, we need 10(10-1)/2=45 pairwise classifiers. The one-versus-one classifier is going increment the \"vote\" for each label and return the class that achieve maximum votes."
   ]
  },
  {
   "cell_type": "code",
   "execution_count": null,
   "metadata": {
    "id": "H3hk3-k1-PKy"
   },
   "outputs": [],
   "source": [
    "data_label_trans = data_label.copy()\n",
    "data_label_trans[data_label_trans==1] = 11 \n",
    "\n",
    "# when change label to -1 and 1, the original 1 is mixed with transformed 1. \n",
    "# So we use 11 to represent 1 in the following model to avoid confusion."
   ]
  },
  {
   "cell_type": "code",
   "execution_count": null,
   "metadata": {
    "id": "0xGWyqAa-PKy"
   },
   "outputs": [],
   "source": [
    "def get_class(int_1,int_2):\n",
    "    label = data_label_trans.copy()\n",
    "    \n",
    "    # transform the label=i to -1 and label=j to 1, leaving others unchanged.\n",
    "    label[label == int_1] = -1\n",
    "    label[label == int_2] = 1\n",
    "    label = label.reshape(-1)\n",
    "    \n",
    "    # select label with i,j as a subset\n",
    "    occurrance = list(np.where((label == 1) | (label == -1)))\n",
    "    data = data_train_clean[occurrance[0], :]\n",
    "    sub_label = label[occurrance[0]]\n",
    "    sub_label = sub_label.reshape(-1)\n",
    "    return data, sub_label # get subsets of both trainX and trainY"
   ]
  },
  {
   "cell_type": "markdown",
   "metadata": {
    "id": "N0K4Zmbk-PKz"
   },
   "source": [
    "The above function takes two interger, int_1(i) and int_2(j), and returns the subset of the training set that only contains data labeled as i and j."
   ]
  },
  {
   "cell_type": "code",
   "execution_count": null,
   "metadata": {
    "id": "G74JW-yo-PKz"
   },
   "outputs": [],
   "source": [
    "def get_para(int_1,int_2):\n",
    "    trainX, trainY = get_class(int_1,int_2)\n",
    "    trainX = np.vstack(trainX)\n",
    "    trainY = np.vstack(trainY)\n",
    "    \n",
    "    # using least square model to find the parameter.\n",
    "    # The model algorism is the same as decribed in one-versus-all.\n",
    "    A = np.c_[np.ones((trainX.shape[0],1)), trainX]\n",
    "    A_In = A.T @ A\n",
    "    A_y = A.T @ trainY\n",
    "    parameters = np.linalg.lstsq(A_In, A_y, rcond=None)[0]\n",
    "    return parameters"
   ]
  },
  {
   "cell_type": "markdown",
   "metadata": {
    "id": "yH_ouYlW-PKz"
   },
   "source": [
    "The above function takes two interger, int_1(i) and int_2(j), and returns the parameter of i-versus-j classifier."
   ]
  },
  {
   "cell_type": "code",
   "execution_count": null,
   "metadata": {
    "id": "y1EDPnD1-PKz"
   },
   "outputs": [],
   "source": [
    "# get parameter for each pairwise classifier\n",
    "\n",
    "para_01 = get_para(0,11)\n",
    "para_02 = get_para(0,2)\n",
    "para_03 = get_para(0,3)\n",
    "para_04 = get_para(0,4)\n",
    "para_05 = get_para(0,5)\n",
    "para_06 = get_para(0,6)\n",
    "para_07 = get_para(0,7)\n",
    "para_08 = get_para(0,8)\n",
    "para_09 = get_para(0,9)\n",
    "para_12 = get_para(11,2)\n",
    "para_13 = get_para(11,3)\n",
    "para_14 = get_para(11,4)\n",
    "para_15 = get_para(11,5)\n",
    "para_16 = get_para(11,6)\n",
    "para_17 = get_para(11,7)\n",
    "para_18 = get_para(11,8)\n",
    "para_19 = get_para(11,9)\n",
    "para_23 = get_para(2,3)\n",
    "para_24 = get_para(2,4)\n",
    "para_25 = get_para(2,5)\n",
    "para_26 = get_para(2,6)\n",
    "para_27 = get_para(2,7)\n",
    "para_28 = get_para(2,8)\n",
    "para_29 = get_para(2,9)\n",
    "para_34 = get_para(3,4)\n",
    "para_35 = get_para(3,5)\n",
    "para_36 = get_para(3,6)\n",
    "para_37 = get_para(3,7)\n",
    "para_38 = get_para(3,8)\n",
    "para_39 = get_para(3,9)\n",
    "para_45 = get_para(4,5)\n",
    "para_46 = get_para(4,6)\n",
    "para_47 = get_para(4,7)\n",
    "para_48 = get_para(4,8)\n",
    "para_49 = get_para(4,9)\n",
    "para_56 = get_para(5,6)\n",
    "para_57 = get_para(5,7)\n",
    "para_58 = get_para(5,8)\n",
    "para_59 = get_para(5,9)\n",
    "para_67 = get_para(6,7)\n",
    "para_68 = get_para(6,8)\n",
    "para_69 = get_para(6,9)\n",
    "para_78 = get_para(7,8)\n",
    "para_79 = get_para(7,9)\n",
    "para_89 = get_para(8,9)"
   ]
  },
  {
   "cell_type": "code",
   "execution_count": null,
   "metadata": {
    "id": "DhWuvyLq-PK0",
    "outputId": "0eb64e35-0891-4d63-c4ab-59464659bf82"
   },
   "outputs": [
    {
     "data": {
      "text/plain": [
       "array([[-4.23144029e-01],\n",
       "       [-2.12668230e-03],\n",
       "       [ 4.48113475e-03],\n",
       "       [-2.72560748e-03],\n",
       "       [ 2.59689741e-03],\n",
       "       [-6.54671291e-04],\n",
       "       [ 2.56524974e-03],\n",
       "       [ 1.52770358e-02],\n",
       "       [-5.36271629e-03],\n",
       "       [-1.89064534e-04],\n",
       "       [-2.82415605e-04],\n",
       "       [ 9.14998791e-05],\n",
       "       [-2.24647755e-04],\n",
       "       [ 2.80637029e-04],\n",
       "       [-3.29495492e-04],\n",
       "       [ 2.20084079e-04],\n",
       "       [-5.43810346e-05],\n",
       "       [ 5.04155372e-05],\n",
       "       [-9.27622818e-05],\n",
       "       [-4.87080462e-05],\n",
       "       [-1.21454528e-05],\n",
       "       [-8.85184556e-05],\n",
       "       [ 1.34818609e-03],\n",
       "       [-4.28759361e-04],\n",
       "       [-1.33983458e-04],\n",
       "       [ 1.52177098e-04],\n",
       "       [-3.25118880e-04],\n",
       "       [ 5.85824530e-05],\n",
       "       [-3.61585117e-06],\n",
       "       [-3.45090347e-05],\n",
       "       [-4.60531357e-05],\n",
       "       [-4.41380344e-05],\n",
       "       [-5.99669702e-05],\n",
       "       [-1.77468551e-05],\n",
       "       [ 2.26368991e-05],\n",
       "       [-9.99153692e-05],\n",
       "       [-5.78494484e-06],\n",
       "       [-1.27674097e-04],\n",
       "       [-6.65389640e-05],\n",
       "       [ 9.01984467e-05],\n",
       "       [ 2.05970639e-03],\n",
       "       [-1.45933719e-04],\n",
       "       [-3.23682605e-04],\n",
       "       [-4.67570107e-04],\n",
       "       [ 4.02533855e-04],\n",
       "       [-7.15244516e-05],\n",
       "       [-1.34566147e-04],\n",
       "       [-1.93354848e-04],\n",
       "       [ 1.04077360e-04],\n",
       "       [-5.12693423e-05],\n",
       "       [ 4.70197841e-06],\n",
       "       [ 6.70885819e-05],\n",
       "       [-5.08536333e-05],\n",
       "       [ 9.01074293e-06],\n",
       "       [ 2.95191592e-05],\n",
       "       [ 3.96955725e-05],\n",
       "       [ 1.58349597e-04],\n",
       "       [-1.72895802e-05],\n",
       "       [ 1.75624984e-04],\n",
       "       [-2.30919999e-04],\n",
       "       [-1.26233967e-03],\n",
       "       [-1.37102144e-03],\n",
       "       [ 1.21411297e-04],\n",
       "       [ 5.99015118e-04],\n",
       "       [-2.48841760e-04],\n",
       "       [ 1.37749389e-04],\n",
       "       [ 8.10922530e-06],\n",
       "       [ 1.43008061e-04],\n",
       "       [ 1.81163539e-04],\n",
       "       [-3.93437743e-05],\n",
       "       [-3.28910262e-06],\n",
       "       [-3.66571617e-05],\n",
       "       [-1.16944142e-04],\n",
       "       [ 4.55984546e-05],\n",
       "       [-8.70163474e-06],\n",
       "       [-3.72019834e-05],\n",
       "       [ 2.79989121e-05],\n",
       "       [-3.78541160e-06],\n",
       "       [ 3.26410521e-05],\n",
       "       [-4.19984201e-09],\n",
       "       [ 6.23963190e-04],\n",
       "       [ 1.52735494e-03],\n",
       "       [ 1.79297809e-03],\n",
       "       [ 7.25136706e-04],\n",
       "       [-2.49604920e-04],\n",
       "       [ 1.99167142e-04],\n",
       "       [-1.49643771e-04],\n",
       "       [-1.11677988e-04],\n",
       "       [-1.09492952e-05],\n",
       "       [-1.70146939e-04],\n",
       "       [ 8.51530342e-05],\n",
       "       [-1.42242309e-04],\n",
       "       [ 8.34931128e-05],\n",
       "       [-2.22943216e-05],\n",
       "       [ 9.52055002e-05],\n",
       "       [-7.84615137e-05],\n",
       "       [-5.53087849e-05],\n",
       "       [ 7.58503084e-05],\n",
       "       [ 9.87073577e-05],\n",
       "       [-6.89140214e-05],\n",
       "       [-7.85127485e-05],\n",
       "       [-1.17506424e-04],\n",
       "       [-8.36377442e-04],\n",
       "       [-1.57160961e-04],\n",
       "       [-1.14008084e-03],\n",
       "       [-5.39009386e-04],\n",
       "       [-4.85822292e-04],\n",
       "       [-1.84419368e-04],\n",
       "       [-5.33755766e-05],\n",
       "       [ 1.79910177e-04],\n",
       "       [-7.09241559e-05],\n",
       "       [-8.47066682e-05],\n",
       "       [ 3.01994586e-05],\n",
       "       [-7.35799667e-05],\n",
       "       [ 1.28752805e-04],\n",
       "       [-1.13047622e-04],\n",
       "       [ 3.34826883e-05],\n",
       "       [-6.63034929e-06],\n",
       "       [-5.38189024e-05],\n",
       "       [ 3.01669590e-05],\n",
       "       [-1.96118274e-05],\n",
       "       [-5.71193901e-05],\n",
       "       [-3.44419921e-05],\n",
       "       [ 9.65128835e-05],\n",
       "       [-1.71306880e-04],\n",
       "       [ 3.68756164e-04],\n",
       "       [ 6.31067956e-05],\n",
       "       [ 6.40287134e-04],\n",
       "       [-2.30996707e-04],\n",
       "       [ 3.48147662e-04],\n",
       "       [ 1.80563414e-04],\n",
       "       [-3.25525384e-06],\n",
       "       [ 4.19697456e-05],\n",
       "       [ 9.38878608e-05],\n",
       "       [-4.67308229e-05],\n",
       "       [ 5.30858999e-05],\n",
       "       [-8.57117372e-06],\n",
       "       [ 1.40165335e-05],\n",
       "       [ 4.68436555e-05],\n",
       "       [ 3.58531122e-05],\n",
       "       [-2.19779696e-06],\n",
       "       [ 3.96132089e-05],\n",
       "       [ 6.09795516e-05],\n",
       "       [-4.14035007e-05],\n",
       "       [-1.72155399e-04],\n",
       "       [ 1.20054311e-05],\n",
       "       [-3.23653173e-05],\n",
       "       [-7.11505120e-05],\n",
       "       [-2.60176923e-04],\n",
       "       [-9.98146129e-04],\n",
       "       [-3.04613232e-03],\n",
       "       [ 5.45211444e-04],\n",
       "       [-1.30985700e-04],\n",
       "       [-2.23292780e-04],\n",
       "       [-8.93581722e-05],\n",
       "       [ 4.43289456e-07],\n",
       "       [ 3.68725992e-05],\n",
       "       [-8.83924542e-05],\n",
       "       [ 9.74347474e-05],\n",
       "       [-1.03203366e-04],\n",
       "       [-2.87361527e-05],\n",
       "       [ 2.44102605e-05],\n",
       "       [-2.75902291e-05],\n",
       "       [ 6.89868334e-05],\n",
       "       [-1.13664492e-05],\n",
       "       [-1.19253152e-04],\n",
       "       [ 2.59986658e-05],\n",
       "       [ 1.21465781e-05],\n",
       "       [-4.38089419e-05],\n",
       "       [-9.27277723e-06],\n",
       "       [-7.63589907e-05],\n",
       "       [-2.45915276e-05],\n",
       "       [ 5.65998646e-04],\n",
       "       [ 3.05673074e-05],\n",
       "       [ 9.59206112e-05],\n",
       "       [ 1.36752061e-04],\n",
       "       [-5.51482847e-05],\n",
       "       [-1.55375125e-04],\n",
       "       [-1.28876905e-05],\n",
       "       [-3.58969141e-05],\n",
       "       [-3.85322397e-05],\n",
       "       [ 1.71383017e-04],\n",
       "       [ 3.17451571e-05],\n",
       "       [ 8.33269117e-05],\n",
       "       [ 1.35943641e-04],\n",
       "       [-3.87181142e-05],\n",
       "       [ 9.55835544e-06],\n",
       "       [-5.22160085e-06],\n",
       "       [-6.76148013e-05],\n",
       "       [ 3.30757618e-05],\n",
       "       [ 3.43360794e-05],\n",
       "       [-2.10433990e-04],\n",
       "       [ 5.00529037e-05],\n",
       "       [ 5.35275392e-05],\n",
       "       [-8.85063377e-05],\n",
       "       [ 1.12091947e-04],\n",
       "       [-3.88170901e-05],\n",
       "       [ 2.44947367e-04],\n",
       "       [ 2.87716985e-06],\n",
       "       [ 3.21796834e-05],\n",
       "       [ 1.02206945e-05],\n",
       "       [-1.44955012e-04],\n",
       "       [-1.84687302e-04],\n",
       "       [-1.31943252e-04],\n",
       "       [ 2.33868824e-04],\n",
       "       [ 1.31356590e-04],\n",
       "       [-8.89587335e-05],\n",
       "       [-1.44117334e-04],\n",
       "       [ 2.92537668e-05],\n",
       "       [-1.25909621e-04],\n",
       "       [-1.75073272e-04],\n",
       "       [-2.18929382e-04],\n",
       "       [ 2.64786247e-05],\n",
       "       [-7.80519497e-05],\n",
       "       [-6.88185460e-05],\n",
       "       [-3.69431561e-04],\n",
       "       [-1.04438490e-04],\n",
       "       [-6.43561506e-05],\n",
       "       [-1.40186692e-04],\n",
       "       [-4.59665192e-06],\n",
       "       [-2.03379550e-05],\n",
       "       [-1.26566551e-04],\n",
       "       [ 1.60289066e-04],\n",
       "       [ 1.23523107e-05],\n",
       "       [-1.51542842e-05],\n",
       "       [ 4.15429407e-04],\n",
       "       [ 2.12057580e-04],\n",
       "       [ 8.69448200e-05],\n",
       "       [ 3.58155701e-05],\n",
       "       [-7.11835162e-05],\n",
       "       [-1.39655278e-06],\n",
       "       [ 1.06695420e-04],\n",
       "       [ 7.96500410e-05],\n",
       "       [ 3.23563294e-05],\n",
       "       [-3.55454567e-05],\n",
       "       [-1.97523941e-04],\n",
       "       [-1.11594480e-04],\n",
       "       [-1.60091404e-04],\n",
       "       [-7.99269430e-05],\n",
       "       [-2.32658379e-06],\n",
       "       [-7.08969548e-05],\n",
       "       [-9.13659032e-05],\n",
       "       [-1.96664815e-05],\n",
       "       [-2.62336465e-04],\n",
       "       [ 6.18276215e-05],\n",
       "       [-6.77078982e-04],\n",
       "       [ 2.34572646e-03],\n",
       "       [-5.03303742e-04],\n",
       "       [ 1.34507870e-04],\n",
       "       [-7.46560583e-05],\n",
       "       [-1.65788228e-04],\n",
       "       [ 8.84806414e-05],\n",
       "       [-1.26036322e-04],\n",
       "       [-1.40452716e-04],\n",
       "       [-1.82613079e-04],\n",
       "       [-4.28200444e-05],\n",
       "       [-1.32089210e-05],\n",
       "       [ 1.31274488e-04],\n",
       "       [ 1.53057670e-04],\n",
       "       [ 1.33803245e-04],\n",
       "       [-4.07811629e-05],\n",
       "       [ 9.13853586e-06],\n",
       "       [ 4.31491216e-07],\n",
       "       [-1.52901747e-04],\n",
       "       [-7.40585653e-05],\n",
       "       [-6.05937530e-05],\n",
       "       [ 4.16992028e-04],\n",
       "       [ 1.75810625e-03],\n",
       "       [-2.03665098e-04],\n",
       "       [-7.15012743e-05],\n",
       "       [-3.70652288e-04],\n",
       "       [-2.62869307e-04],\n",
       "       [-2.22391593e-04],\n",
       "       [-1.30791963e-04],\n",
       "       [-3.28070983e-05],\n",
       "       [ 3.68712846e-05],\n",
       "       [-1.67431682e-04],\n",
       "       [-1.34616494e-04],\n",
       "       [ 3.18965874e-05],\n",
       "       [-2.01818526e-04],\n",
       "       [-6.11498473e-05],\n",
       "       [-1.28110907e-05],\n",
       "       [ 6.92131426e-05],\n",
       "       [-1.41816501e-04],\n",
       "       [ 2.79160905e-05],\n",
       "       [ 1.05478490e-04],\n",
       "       [ 3.34622026e-05],\n",
       "       [ 6.24277961e-04],\n",
       "       [ 2.92172243e-04],\n",
       "       [-1.04208491e-05],\n",
       "       [-9.50578257e-06],\n",
       "       [-2.75842530e-04],\n",
       "       [-1.06445032e-04],\n",
       "       [-2.68628071e-05],\n",
       "       [-2.47056147e-05],\n",
       "       [-4.43481737e-05],\n",
       "       [ 5.65472719e-05],\n",
       "       [-1.25727371e-04],\n",
       "       [-3.85651325e-05],\n",
       "       [-9.18752860e-04],\n",
       "       [-5.12417169e-05],\n",
       "       [ 1.66896445e-04],\n",
       "       [-4.43855490e-05],\n",
       "       [-1.35056782e-04],\n",
       "       [-2.46512675e-04],\n",
       "       [-6.51371918e-06],\n",
       "       [-2.10991597e-04],\n",
       "       [-3.65439592e-06],\n",
       "       [ 2.42257182e-04],\n",
       "       [-1.38785264e-04],\n",
       "       [ 1.59711136e-04],\n",
       "       [ 1.36832503e-04],\n",
       "       [ 2.07117547e-04],\n",
       "       [ 1.10975696e-04],\n",
       "       [ 9.54674167e-05],\n",
       "       [-1.01748237e-04],\n",
       "       [-2.29355403e-04],\n",
       "       [-8.11706251e-05],\n",
       "       [-2.24641739e-04],\n",
       "       [ 2.32796516e-04],\n",
       "       [-2.62815408e-04],\n",
       "       [ 4.13082256e-04],\n",
       "       [-3.13891640e-04],\n",
       "       [-2.08651323e-04],\n",
       "       [-1.02308343e-04],\n",
       "       [-3.93736420e-05],\n",
       "       [ 5.58244850e-05],\n",
       "       [ 8.42380329e-05],\n",
       "       [-1.78484008e-05],\n",
       "       [ 1.00264459e-04],\n",
       "       [-3.53216179e-06],\n",
       "       [ 1.91266104e-04],\n",
       "       [-1.55834061e-04],\n",
       "       [ 1.41699955e-04],\n",
       "       [ 7.42711819e-05],\n",
       "       [-1.70182463e-05],\n",
       "       [-3.82911103e-04],\n",
       "       [-5.68756386e-05],\n",
       "       [-1.33177319e-04],\n",
       "       [ 6.78423172e-05],\n",
       "       [-8.49365507e-05],\n",
       "       [-1.29283191e-04],\n",
       "       [-1.77466793e-04],\n",
       "       [ 6.77020245e-05],\n",
       "       [ 9.13425309e-04],\n",
       "       [-5.25878120e-05],\n",
       "       [ 6.91661649e-05],\n",
       "       [-1.10603801e-04],\n",
       "       [-1.77450979e-04],\n",
       "       [-6.01559351e-05],\n",
       "       [-1.61974215e-04],\n",
       "       [ 2.99601947e-05],\n",
       "       [-1.53412740e-05],\n",
       "       [ 1.00133361e-04],\n",
       "       [-1.64809940e-04],\n",
       "       [ 1.15811165e-04],\n",
       "       [ 6.08055863e-05],\n",
       "       [ 1.39805996e-04],\n",
       "       [ 1.38506551e-04],\n",
       "       [ 1.50843344e-04],\n",
       "       [ 3.05740383e-05],\n",
       "       [-5.82294955e-05],\n",
       "       [-4.16057441e-05],\n",
       "       [ 4.09087438e-05],\n",
       "       [ 3.86547756e-05],\n",
       "       [-1.47892709e-04],\n",
       "       [-3.19583223e-04],\n",
       "       [-1.16071802e-03],\n",
       "       [-5.27656990e-04],\n",
       "       [-3.84054647e-04],\n",
       "       [ 1.13684473e-04],\n",
       "       [-1.59035277e-04],\n",
       "       [ 2.08244059e-05],\n",
       "       [ 7.94631519e-05],\n",
       "       [ 6.76182916e-05],\n",
       "       [ 4.69282402e-05],\n",
       "       [ 1.39266817e-04],\n",
       "       [-1.02285735e-04],\n",
       "       [ 9.44982943e-05],\n",
       "       [ 1.04310040e-04],\n",
       "       [-7.46839874e-05],\n",
       "       [ 6.51950263e-05],\n",
       "       [ 1.69456533e-04],\n",
       "       [-1.69210137e-05],\n",
       "       [-9.89569746e-05],\n",
       "       [-3.15917592e-04],\n",
       "       [-3.04700503e-04],\n",
       "       [ 1.24456765e-04],\n",
       "       [ 2.51022206e-04],\n",
       "       [ 6.82186852e-04],\n",
       "       [ 2.46448705e-04],\n",
       "       [ 1.98255420e-04],\n",
       "       [ 1.84642724e-04],\n",
       "       [ 3.18540930e-04],\n",
       "       [ 1.40461072e-04],\n",
       "       [-5.91796634e-05],\n",
       "       [-2.73314380e-05],\n",
       "       [-5.44490490e-05],\n",
       "       [ 3.86852770e-05],\n",
       "       [ 1.33151654e-04],\n",
       "       [ 5.03684035e-05],\n",
       "       [-1.48908105e-05],\n",
       "       [ 1.43766019e-04],\n",
       "       [-1.38764789e-05],\n",
       "       [ 2.48981847e-04],\n",
       "       [ 1.00726569e-04],\n",
       "       [ 2.83423191e-04],\n",
       "       [ 4.04137279e-04],\n",
       "       [-3.55204362e-04],\n",
       "       [ 1.14823960e-04],\n",
       "       [ 2.23813814e-03],\n",
       "       [ 1.21787408e-04],\n",
       "       [ 2.20538856e-04],\n",
       "       [ 2.04584496e-04],\n",
       "       [ 4.53987018e-05],\n",
       "       [-4.62082476e-06],\n",
       "       [-1.63008770e-05],\n",
       "       [ 3.43802527e-05],\n",
       "       [ 2.31105575e-07],\n",
       "       [-4.51871066e-05],\n",
       "       [-1.85677717e-04],\n",
       "       [-1.32100286e-04],\n",
       "       [ 9.84880587e-06],\n",
       "       [-6.31371476e-05],\n",
       "       [-8.44654842e-05],\n",
       "       [-6.21718065e-06],\n",
       "       [ 2.33593624e-04],\n",
       "       [-5.88300619e-06],\n",
       "       [ 1.45849941e-04],\n",
       "       [ 6.34496401e-04],\n",
       "       [-7.67111607e-04],\n",
       "       [-1.02455016e-06],\n",
       "       [-7.36006964e-05],\n",
       "       [-1.53401394e-04],\n",
       "       [ 2.11926611e-05],\n",
       "       [-9.73944306e-05],\n",
       "       [-1.75092674e-05],\n",
       "       [-6.14989878e-07],\n",
       "       [ 2.77160477e-05],\n",
       "       [-1.35944421e-05],\n",
       "       [ 7.20031022e-05],\n",
       "       [-7.40747260e-06],\n",
       "       [-6.99390603e-05],\n",
       "       [-7.28937922e-05],\n",
       "       [ 2.94124272e-05],\n",
       "       [-4.64019480e-05],\n",
       "       [-1.93728644e-04],\n",
       "       [-1.31605449e-04],\n",
       "       [-3.00387437e-04],\n",
       "       [ 7.71431837e-04],\n",
       "       [-1.92276353e-03],\n",
       "       [ 2.43931645e-04],\n",
       "       [-6.27813107e-05],\n",
       "       [ 1.28976340e-04],\n",
       "       [-1.32051533e-04],\n",
       "       [ 1.28145990e-04],\n",
       "       [-1.32770809e-04],\n",
       "       [ 5.71977839e-05],\n",
       "       [-8.57514298e-05],\n",
       "       [-2.72983483e-05],\n",
       "       [-1.70191524e-05],\n",
       "       [ 2.38640853e-05],\n",
       "       [-1.55868645e-04],\n",
       "       [ 4.99561645e-04],\n",
       "       [-4.36612696e-04],\n",
       "       [ 7.22746948e-04],\n",
       "       [-1.04087559e-03],\n",
       "       [ 1.83551702e-03],\n",
       "       [-5.96523473e-04],\n",
       "       [ 5.48222609e-03],\n",
       "       [-1.27929225e-03],\n",
       "       [ 1.11077110e-03],\n",
       "       [ 1.31075503e-04],\n",
       "       [-1.12601879e-03],\n",
       "       [ 1.26234800e-03],\n",
       "       [ 3.21414180e-05],\n",
       "       [-1.57270210e-04],\n",
       "       [ 1.40288147e-03],\n",
       "       [-5.60054077e-04],\n",
       "       [ 1.54855511e-04],\n",
       "       [-2.67175824e-02],\n",
       "       [ 2.75956558e-15],\n",
       "       [ 0.00000000e+00],\n",
       "       [ 0.00000000e+00],\n",
       "       [ 0.00000000e+00],\n",
       "       [ 6.72742596e-04],\n",
       "       [ 3.81826878e-04],\n",
       "       [ 0.00000000e+00],\n",
       "       [ 0.00000000e+00],\n",
       "       [ 1.73955352e-03],\n",
       "       [ 5.19148003e-03],\n",
       "       [ 1.73955352e-03],\n",
       "       [ 0.00000000e+00],\n",
       "       [ 0.00000000e+00]])"
      ]
     },
     "execution_count": 70,
     "metadata": {
      "tags": []
     },
     "output_type": "execute_result"
    }
   ],
   "source": [
    "para_01"
   ]
  },
  {
   "cell_type": "code",
   "execution_count": null,
   "metadata": {
    "id": "9CdMmtGs-PK0"
   },
   "outputs": [],
   "source": [
    "def pair_classi(M,para,int_1,int_2):\n",
    "    y_predicted = para[1:].T @ M.reshape(-1) + para[0][0].T\n",
    "    y_predicted = y_predicted.reshape(-1)[0]\n",
    "    if y_predicted > 0:\n",
    "        identify_num = int_2\n",
    "    else:\n",
    "        identify_num = int_1\n",
    "    return identify_num"
   ]
  },
  {
   "cell_type": "markdown",
   "metadata": {
    "id": "3N7dGOeI-PK0"
   },
   "source": [
    "The above function takes in X, i and j, and returns the predicted label (y) under i-versus-j classifier.\n",
    "\n",
    "Following is example of the classification of the first digit under 5-versus-9 classifier. "
   ]
  },
  {
   "cell_type": "code",
   "execution_count": null,
   "metadata": {
    "id": "IuQkcArd-PK0",
    "outputId": "baf75276-db30-4a4d-8e0d-ae31696cdecf"
   },
   "outputs": [
    {
     "data": {
      "text/plain": [
       "5"
      ]
     },
     "execution_count": 72,
     "metadata": {
      "tags": []
     },
     "output_type": "execute_result"
    }
   ],
   "source": [
    "pair_classi(data_train_clean[0],para_59,5,9)"
   ]
  },
  {
   "cell_type": "markdown",
   "metadata": {
    "id": "Rzf88u1d-PK0"
   },
   "source": [
    "## 4.2 Design of one-versus-one classifier"
   ]
  },
  {
   "cell_type": "markdown",
   "metadata": {
    "id": "9Y3hlimL-PK1"
   },
   "source": [
    "The one-versus-one classifier is going increment the \"vote\" for each label and return the class that achieve maximum votes."
   ]
  },
  {
   "cell_type": "code",
   "execution_count": null,
   "metadata": {
    "id": "qNkF0pks-PK1"
   },
   "outputs": [],
   "source": [
    "def one_vs_one(X):\n",
    "    \n",
    "    # get vote from all 45 pairwise classifier.\n",
    "    p_01 = pair_classi(X,para_01,0,11) # 1 is represented by 11\n",
    "    p_02 = pair_classi(X,para_02,0,2)\n",
    "    p_03 = pair_classi(X,para_03,0,3)\n",
    "    p_04 = pair_classi(X,para_04,0,4)\n",
    "    p_05 = pair_classi(X,para_05,0,5)\n",
    "    p_06 = pair_classi(X,para_06,0,6)\n",
    "    p_07 = pair_classi(X,para_07,0,7)\n",
    "    p_08 = pair_classi(X,para_08,0,8)\n",
    "    p_09 = pair_classi(X,para_09,0,9)\n",
    "    p_12 = pair_classi(X,para_12,11,2) \n",
    "    p_13 = pair_classi(X,para_13,11,3)\n",
    "    p_14 = pair_classi(X,para_14,11,4)\n",
    "    p_15 = pair_classi(X,para_15,11,5)\n",
    "    p_16 = pair_classi(X,para_16,11,6)\n",
    "    p_17 = pair_classi(X,para_17,11,7)\n",
    "    p_18 = pair_classi(X,para_18,11,8)\n",
    "    p_19 = pair_classi(X,para_19,11,9)\n",
    "    p_23 = pair_classi(X,para_23,2,3)\n",
    "    p_24 = pair_classi(X,para_24,2,4)\n",
    "    p_25 = pair_classi(X,para_25,2,5)\n",
    "    p_26 = pair_classi(X,para_26,2,6)\n",
    "    p_27 = pair_classi(X,para_27,2,7)\n",
    "    p_28 = pair_classi(X,para_28,2,8)\n",
    "    p_29 = pair_classi(X,para_29,2,9)\n",
    "    p_34 = pair_classi(X,para_34,3,4)\n",
    "    p_35 = pair_classi(X,para_35,3,5)\n",
    "    p_36 = pair_classi(X,para_36,3,6)\n",
    "    p_37 = pair_classi(X,para_37,3,7)\n",
    "    p_38 = pair_classi(X,para_38,3,8)\n",
    "    p_39 = pair_classi(X,para_39,3,9)\n",
    "    p_45 = pair_classi(X,para_45,4,5)\n",
    "    p_46 = pair_classi(X,para_46,4,6)\n",
    "    p_47 = pair_classi(X,para_47,4,7)\n",
    "    p_48 = pair_classi(X,para_48,4,8)\n",
    "    p_49 = pair_classi(X,para_49,4,9)\n",
    "    p_56 = pair_classi(X,para_56,5,6)\n",
    "    p_57 = pair_classi(X,para_57,5,7)\n",
    "    p_58 = pair_classi(X,para_58,5,8)\n",
    "    p_59 = pair_classi(X,para_59,5,9)\n",
    "    p_67 = pair_classi(X,para_67,6,7)\n",
    "    p_68 = pair_classi(X,para_68,6,8)\n",
    "    p_69 = pair_classi(X,para_69,6,9)\n",
    "    p_78 = pair_classi(X,para_78,7,8)\n",
    "    p_79 = pair_classi(X,para_79,7,9)\n",
    "    p_89 = pair_classi(X,para_89,8,9)\n",
    "    \n",
    "    votes = np.array([p_01,p_02,p_03,p_04,p_05,p_06,p_07,p_08,p_09,p_12,p_13,p_14,p_15,p_16,p_17,p_18,p_19,p_23,p_24,p_25,p_26,p_27,p_28,p_29,p_34,p_35,p_36,p_37,p_38,p_39,p_45,p_46,p_47,p_48,p_49,p_56,p_57,p_58,p_59,p_67,p_68,p_69,p_78,p_79,p_89])\n",
    "   \n",
    "    # get an array that counts vote for each label   \n",
    "    (num, counts) = np.unique(votes, return_counts=True)\n",
    "    \n",
    "    # transform the result into an array\n",
    "    # eg. [1 4] represents label1 get 4 votes.    \n",
    "    frequencies = np.asarray((num, counts)).T\n",
    "    \n",
    "    # get the label having the maximum vote \n",
    "    max_count = 0\n",
    "    for i in range(len(frequencies)):\n",
    "        if frequencies[i,1]>max_count:\n",
    "            max_count = frequencies[i,1]\n",
    "            major_vote = frequencies[i,0]\n",
    "    if major_vote == 11: # transform 11 back to 1.\n",
    "        major_vote = 1\n",
    "    return major_vote"
   ]
  },
  {
   "cell_type": "code",
   "execution_count": null,
   "metadata": {
    "id": "l15_G8T_-PK1",
    "outputId": "219ef721-225f-4f1d-f745-133793ff284a",
    "scrolled": true
   },
   "outputs": [
    {
     "data": {
      "text/plain": [
       "5"
      ]
     },
     "execution_count": 74,
     "metadata": {
      "tags": []
     },
     "output_type": "execute_result"
    }
   ],
   "source": [
    "one_vs_one(data_train_clean[0]) # example of classification for the first digit"
   ]
  },
  {
   "cell_type": "markdown",
   "metadata": {
    "id": "kSf7cIji-PK1"
   },
   "source": [
    "## 4.3 Evaluation\n",
    "\n",
    "### 4.3.1 Evaluation on training set"
   ]
  },
  {
   "cell_type": "code",
   "execution_count": null,
   "metadata": {
    "id": "3yVScV7A-PK1"
   },
   "outputs": [],
   "source": [
    "confusion_M_2_train, error_rate_2_train = get_confusion(one_vs_one, data_train_clean, data_label)"
   ]
  },
  {
   "cell_type": "code",
   "execution_count": null,
   "metadata": {
    "id": "_U9APPU6-PK2",
    "outputId": "962de0cc-3988-4341-b32e-c4a9aba83cd7"
   },
   "outputs": [
    {
     "data": {
      "text/plain": [
       "array([[5799,    0,   18,    8,   15,   21,   23,    6,   32,    1],\n",
       "       [   2, 6599,   42,   22,    6,   21,    3,   12,   27,    8],\n",
       "       [  50,   57, 5508,   51,   67,   29,   44,   48,   87,   17],\n",
       "       [  33,   22,  127, 5558,    7,  177,   22,   51,   93,   41],\n",
       "       [  14,   12,   15,    3, 5577,   10,   16,   19,    7,  169],\n",
       "       [  45,   29,   41,  143,   26, 4971,   94,    8,   47,   17],\n",
       "       [  26,   12,   45,    2,   36,   86, 5682,    0,   28,    1],\n",
       "       [   9,   56,   61,    5,   82,   12,    1, 5875,    8,  156],\n",
       "       [  32,  146,   52,  124,   43,  148,   41,   30, 5168,   67],\n",
       "       [  22,    9,   21,   80,  164,   36,    2,  155,   33, 5427]])"
      ]
     },
     "execution_count": 76,
     "metadata": {
      "tags": []
     },
     "output_type": "execute_result"
    }
   ],
   "source": [
    "confusion_M_2_train"
   ]
  },
  {
   "cell_type": "code",
   "execution_count": null,
   "metadata": {
    "id": "ZrKXA8fa-PK2",
    "outputId": "599c548d-fc70-4785-d14f-cc4b17f56137"
   },
   "outputs": [
    {
     "data": {
      "text/plain": [
       "0.06393333333333333"
      ]
     },
     "execution_count": 77,
     "metadata": {
      "tags": []
     },
     "output_type": "execute_result"
    }
   ],
   "source": [
    "error_rate_2_train"
   ]
  },
  {
   "cell_type": "markdown",
   "metadata": {
    "id": "TXEEwpAe-PK2"
   },
   "source": [
    "The error rate for training set is 6.39% < 10%, which is relatively low. Thus, the connection between data and label is probably relatively high based on this classifier.\n",
    "\n",
    "The confusion matrix shows significanly larger value in diagonal than in elsewhere, which indicates most values are classified correctly. However, there're still some small amount of images get misclassified. For example, 57 images that are digit 1 get classifed as digit 2 (smaller than 278 from one-vs-all).\n",
    "\n",
    "Based on error rate and confusion matrix, the training error of the one-versus-all classifier is relatively low."
   ]
  },
  {
   "cell_type": "markdown",
   "metadata": {
    "id": "3X6JuOYb-PK2"
   },
   "source": [
    "### 4.3.2 Evaluation on testing set"
   ]
  },
  {
   "cell_type": "code",
   "execution_count": null,
   "metadata": {
    "id": "MNRKwvL6-PK2"
   },
   "outputs": [],
   "source": [
    "confusion_M_2_test, error_rate_2_test = get_confusion(one_vs_one, data_testX_clean, data_testY)"
   ]
  },
  {
   "cell_type": "code",
   "execution_count": null,
   "metadata": {
    "id": "vh_cwTMT-PK3",
    "outputId": "67b2964e-a0f3-4cdd-d319-66dd6525103c"
   },
   "outputs": [
    {
     "data": {
      "text/plain": [
       "array([[ 962,    0,    3,    1,    1,    4,    5,    3,    1,    0],\n",
       "       [   0, 1120,    3,    3,    1,    2,    3,    1,    2,    0],\n",
       "       [   8,   16,  935,   14,   13,    5,   11,    7,   23,    0],\n",
       "       [   8,    0,   16,  926,    3,   20,    3,   10,   19,    5],\n",
       "       [   2,    2,    7,    1,  933,    2,    6,    3,    2,   24],\n",
       "       [  12,    5,    2,   30,    9,  800,   15,    2,   13,    4],\n",
       "       [   8,    3,   12,    0,    8,   20,  905,    0,    2,    0],\n",
       "       [   1,   13,   18,    4,   10,    1,    0,  956,    3,   22],\n",
       "       [   8,   10,   11,   21,   11,   34,   12,   10,  844,   13],\n",
       "       [   6,    4,    1,   10,   31,   11,    0,   24,    5,  917]])"
      ]
     },
     "execution_count": 80,
     "metadata": {
      "tags": []
     },
     "output_type": "execute_result"
    }
   ],
   "source": [
    "confusion_M_2_test"
   ]
  },
  {
   "cell_type": "code",
   "execution_count": null,
   "metadata": {
    "id": "Q26pak6c-PK3",
    "outputId": "fbf26669-0229-4e2a-e56c-e9e8fb2b4d8c"
   },
   "outputs": [
    {
     "name": "stdout",
     "output_type": "stream",
     "text": [
      "[ 980 1135 1032 1010  982  892  958 1028  974 1009]\n",
      "[1015 1173 1008 1010 1020  899  960 1016  914  985]\n"
     ]
    }
   ],
   "source": [
    "print(confusion_M_2_test.sum(axis=1)) # number of digits that are i\n",
    "print(confusion_M_2_test.sum(axis=0)) #  number of digits classified as i"
   ]
  },
  {
   "cell_type": "code",
   "execution_count": null,
   "metadata": {
    "id": "Rg3aD4Z5-PK3",
    "outputId": "84a075cf-e9da-4f46-a02a-e87c721348a6"
   },
   "outputs": [
    {
     "data": {
      "text/plain": [
       "0.0702"
      ]
     },
     "execution_count": 82,
     "metadata": {
      "tags": []
     },
     "output_type": "execute_result"
    }
   ],
   "source": [
    "error_rate_2_test"
   ]
  },
  {
   "cell_type": "markdown",
   "metadata": {
    "id": "inLaHqmU-PK3"
   },
   "source": [
    "The error rate for training set is 7.02% > 10%, which is relatively low. Thus, the prediction on testing set is very accurate.\n",
    "\n",
    "The confusion matrix shows significanly larger value in diagonal than in elsewhere, which indicates most values are classified correctly. However, as the same as the training set, there're a small amount of images get misclassified. Digits 1 and 0 are easy to classify, while digits 4,5,7,8,9 are harder. Digits 4 and 9, 5 and 8, 6 and 8, 7 and 9 are easy to get confused, so they are harder to classifed. The one-versus-all classifier, shown in Session 3, shows similar trend of error in prediction.\n",
    "\n",
    "Based on error rate and confusion matrix, the prediction of the one-versus-all classifier is relatively accurate."
   ]
  },
  {
   "cell_type": "markdown",
   "metadata": {
    "id": "873aHCQL-PK3"
   },
   "source": [
    "# 4, Discussion"
   ]
  },
  {
   "cell_type": "markdown",
   "metadata": {
    "id": "_nRCJe5n-PK4"
   },
   "source": [
    "The one-versus-one classifier have a smaller error rate than one-versus-all classifier in traing set. Its confusion matrix of training set also has higher values in diagonal. So one-versus-one classifier has smaller training error than one-versus-all classifier.\n",
    "\n",
    "The one-versus-one classifier also have a smaller error rate than one-versus-all classifier in testing set. Its confusion matrix of testing set also has higher values in diagonal. So one-versus-one classifier gives more accurate prediction than one-versus-all classifier.\n",
    "\n",
    "The two classifier have the same trend regarding misclassification. As shown in confusion matrix, for both classifier, the digits that are hardest to identify are digits 4 and 9, 5 and 8, 6 and 8, 7 and 9."
   ]
  }
 ],
 "metadata": {
  "colab": {
   "name": "Least Square Classifier.ipynb",
   "provenance": []
  },
  "kernelspec": {
   "display_name": "Python 3 (ipykernel)",
   "language": "python",
   "name": "python3"
  },
  "language_info": {
   "codemirror_mode": {
    "name": "ipython",
    "version": 3
   },
   "file_extension": ".py",
   "mimetype": "text/x-python",
   "name": "python",
   "nbconvert_exporter": "python",
   "pygments_lexer": "ipython3",
   "version": "3.9.13"
  }
 },
 "nbformat": 4,
 "nbformat_minor": 1
}
