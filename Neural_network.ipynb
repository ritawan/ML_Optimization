{
 "cells": [
  {
   "cell_type": "markdown",
   "metadata": {
    "id": "A4rUaxex94HT"
   },
   "source": [
    "# Overview\n",
    "\n",
    "The goal of this project is to constructed a neural network from scratch by applying multiple least-square."
   ]
  },
  {
   "cell_type": "code",
   "execution_count": null,
   "metadata": {
    "id": "c45WFCzz94HU"
   },
   "outputs": [],
   "source": [
    "import pandas as pd\n",
    "import numpy as np\n",
    "from numpy.linalg import inv\n",
    "import matplotlib.pyplot as plt\n",
    "import scipy\n",
    "from scipy.io import loadmat\n",
    "import math\n",
    "from math import sqrt\n",
    "\n",
    "# https://stackoverflow.com/questions/40726490/overflow-error-in-pythons-numpy-exp-function"
   ]
  },
  {
   "cell_type": "markdown",
   "metadata": {
    "id": "eSUFpu6q94HV"
   },
   "source": [
    "## Define the function"
   ]
  },
  {
   "cell_type": "code",
   "execution_count": null,
   "metadata": {
    "id": "TKbKJisW94HV"
   },
   "outputs": [],
   "source": [
    "def phi(u):\n",
    "    y = np.tanh(u)\n",
    "    return y"
   ]
  },
  {
   "cell_type": "code",
   "execution_count": null,
   "metadata": {
    "id": "V59Xp8aF94HV"
   },
   "outputs": [],
   "source": [
    "def d_phi(u):\n",
    "    d = 1/(np.cosh(u)**2)\n",
    "    return d"
   ]
  },
  {
   "cell_type": "code",
   "execution_count": null,
   "metadata": {
    "id": "8C20B78Y94HW"
   },
   "outputs": [],
   "source": [
    "def Fnn(x,w):\n",
    "    # the neural network function\n",
    "    y = w[0]*phi(w[1]*x[:,0]+w[2]*x[:,1]+w[3]*x[:,2]+w[4]) + w[5]*d_phi(w[6]*x[:,0]+w[7]*x[:,1]+w[8]*x[:,2]+w[9]) + w[10]*d_phi(w[11]*x[:,0]+w[12]*x[:,1]+w[13]*x[:,2]+w[14]) + w[15]\n",
    "    return y"
   ]
  },
  {
   "cell_type": "markdown",
   "metadata": {
    "id": "EHlx_Eo094HW"
   },
   "source": [
    "## Jacobian\n",
    "\n",
    "The gradient of the fnn function is given by its partial derivative, as calculated below. jacobian[:,i] denotes the partial derivative of W<sub>i-1</sub> (as python begines with 0.). The jacobian is made up by [W<sub>1</sub> W<sub>2</sub>.... W<sub>16</sub>]"
   ]
  },
  {
   "cell_type": "code",
   "execution_count": null,
   "metadata": {
    "id": "Ah1OKNnc94HW"
   },
   "outputs": [],
   "source": [
    "def get_jacobian(x,w):\n",
    "    jacobian = np.zeros((len(x),len(w)))\n",
    "    jacobian[:,0] = phi(w[1]*x[:,0]+w[2]*x[:,1]+w[3]*x[:,2]+w[4])\n",
    "    jacobian[:,1] = w[0]*x[:,0]*d_phi(w[1]*x[:,0]+w[2]*x[:,1]+w[3]*x[:,2]+w[4])\n",
    "    jacobian[:,2] = w[0]*x[:,1]*d_phi(w[1]*x[:,0]+w[2]*x[:,1]+w[3]*x[:,2]+w[4])\n",
    "    jacobian[:,3] = w[0]*x[:,2]*d_phi(w[1]*x[:,0]+w[2]*x[:,1]+w[3]*x[:,2]+w[4])\n",
    "    jacobian[:,4] = w[0]*d_phi(w[1]*x[:,0]+w[2]*x[:,1]+w[3]*x[:,2]+w[4])\n",
    "    \n",
    "    jacobian[:,5] = phi(w[6]*x[:,0]+w[7]*x[:,1]+w[8]*x[:,2]+w[9])\n",
    "    jacobian[:,6] = w[5]*x[:,0]*d_phi(w[6]*x[:,0]+w[7]*x[:,1]+w[8]*x[:,2]+w[9])\n",
    "    jacobian[:,7] = w[5]*x[:,1]*d_phi(w[6]*x[:,0]+w[7]*x[:,1]+w[8]*x[:,2]+w[9])\n",
    "    jacobian[:,8] = w[5]*x[:,2]*d_phi(w[6]*x[:,0]+w[7]*x[:,1]+w[8]*x[:,2]+w[9])\n",
    "    jacobian[:,9] = w[5]*d_phi(w[6]*x[:,0]+w[7]*x[:,1]+w[8]*x[:,2]+w[9])\n",
    "\n",
    "    jacobian[:,10] = phi(w[11]*x[:,0]+w[12]*x[:,1]+w[13]*x[:,2]+w[14])\n",
    "    jacobian[:,11] = w[10]*x[:,0]*d_phi(w[11]*x[:,0]+w[12]*x[:,1]+w[13]*x[:,2]+w[14])\n",
    "    jacobian[:,12] = w[10]*x[:,1]*d_phi(w[11]*x[:,0]+w[12]*x[:,1]+w[13]*x[:,2]+w[14])\n",
    "    jacobian[:,13] = w[10]*x[:,2]*d_phi(w[11]*x[:,0]+w[12]*x[:,1]+w[13]*x[:,2]+w[14])\n",
    "    jacobian[:,14] = w[10]*d_phi(w[11]*x[:,0]+w[12]*x[:,1]+w[13]*x[:,2]+w[14])\n",
    "    \n",
    "    jacobian[:,15] = 1\n",
    "    \n",
    "    return jacobian"
   ]
  },
  {
   "cell_type": "markdown",
   "metadata": {
    "id": "buvMq4o_94HX"
   },
   "source": [
    "## Constructing the neural network"
   ]
  },
  {
   "cell_type": "code",
   "execution_count": null,
   "metadata": {
    "id": "-A4AxwmT94HX"
   },
   "outputs": [],
   "source": [
    "def get_weight(x,w,y,lum,lum_k):\n",
    "    # a minimizer that update weight based on the previous weight\n",
    "    \n",
    "    jacobian = get_jacobian(x,w)\n",
    "    A1 = jacobian #(500,16)\n",
    "    A2 = np.identity(len(w)) #(16,16)\n",
    "    A3 = np.identity(len(w)) #(16,16)\n",
    "    \n",
    "    b1 = (jacobian @ w) - (Fnn(x,w)-y)\n",
    "    b2 = np.zeros(len(w))\n",
    "    b3 = w\n",
    "    \n",
    "    A = np.concatenate((A1,sqrt(lum)*A2,sqrt(lum_k)*A3))\n",
    "    b = np.concatenate((b1,sqrt(lum)*b2,sqrt(lum_k)*b3))\n",
    "    \n",
    "    update_w = inv((A.T)@A) @ (A.T) @ b\n",
    "    \n",
    "    return update_w"
   ]
  },
  {
   "cell_type": "code",
   "execution_count": null,
   "metadata": {
    "id": "uNtF4lQH94HY"
   },
   "outputs": [],
   "source": [
    "def neural_net_onerun(w,x,y,lum,lum_k):\n",
    "    # run the neural network without multiple run\n",
    "    \n",
    "    count = 0\n",
    "    max_count = 20\n",
    "    train_loss_array = []\n",
    "\n",
    "    \n",
    "    # Stopping when Fnn(x,w)-y is small enough\n",
    "    while (np.linalg.norm(Fnn(x,w)-y) > 1) and (count<max_count) :\n",
    "        w_new = get_weight(x,w,y,lum,lum_k)\n",
    "    \n",
    "        if ((np.linalg.norm(Fnn(x,w_new)-y)**2) + (lum)*(np.linalg.norm(w_new)**2)) < ((np.linalg.norm(Fnn(x,w)-y)**2) + (lum)*(np.linalg.norm(w)**2)) :\n",
    "            # accept the iterate\n",
    "            w = w_new \n",
    "            train_loss = (np.linalg.norm(Fnn(x,w)-y)**2) + (lum)*(np.linalg.norm(w)**2) \n",
    "            lum_k = 0.8*lum_k\n",
    "\n",
    "        else:\n",
    "            # not accept the iterate\n",
    "            train_loss = (np.linalg.norm(Fnn(x,w)-y)**2) + (lum)*(np.linalg.norm(w)**2)  \n",
    "            lum_k = 2*lum_k\n",
    "        \n",
    "        \n",
    "        count += 1\n",
    "        train_loss_array.append(train_loss)  \n",
    "    \n",
    "    return w, train_loss_array, count"
   ]
  },
  {
   "cell_type": "markdown",
   "metadata": {
    "id": "iPu_L5rS94HY"
   },
   "source": [
    "The stopping creteria is when the residual, Fnn(x,w)-y is smaller than 1. The k<sub>max</sub> is 20 iteration, so if the residual doesn't get to 1 before 20 turns, it will also stop. The neural network is testing without multiple run. I try out different initiation methods below and the best one will be used in construcitng the neural network with multiple run."
   ]
  },
  {
   "cell_type": "code",
   "execution_count": null,
   "metadata": {
    "id": "NfRnC4Jf94HZ"
   },
   "outputs": [],
   "source": [
    "x = np.random.rand(500,3)\n",
    "y = x[:,0]*x[:,1]+x[:,2]"
   ]
  },
  {
   "cell_type": "code",
   "execution_count": null,
   "metadata": {
    "id": "8Zrctfqv94HZ",
    "outputId": "b1ff4752-9449-421d-83c9-94364ae09bda"
   },
   "outputs": [
    {
     "name": "stdout",
     "output_type": "stream",
     "text": [
      "[59.0246686218757, 59.023489798847905, 59.02348979583977, 59.02348979583975, 59.02348979583975, 59.02348979583975, 59.02348979583975, 59.02348979583975, 59.02348979583974, 59.02348979583974, 59.02348979583974, 59.02348979583974, 59.02348979583974, 59.02348979583974, 59.02348979583974, 59.02348979583974, 59.02348979583974, 59.02348979583974, 59.02348979583974, 59.02348979583974]\n"
     ]
    },
    {
     "data": {
      "image/png": "[encoded data removed]",
      "text/plain": [
       "<Figure size 432x288 with 1 Axes>"
      ]
     },
     "metadata": {
      "needs_background": "light",
      "tags": []
     },
     "output_type": "display_data"
    }
   ],
   "source": [
    "w = np.zeros(16)\n",
    "neural_net_onerun(w,x,y,lum=1e-5,lum_k=1)\n",
    "w_final, train_loss_array, count = neural_net_onerun(w,x,y,lum=1e-5,lum_k=1)\n",
    "iteration = np.arange(count)+1\n",
    "plt.plot(iteration, train_loss_array)\n",
    "print(train_loss_array)"
   ]
  },
  {
   "cell_type": "markdown",
   "metadata": {
    "id": "4hVGbKO_94Ha"
   },
   "source": [
    "Initialization will all zero vector doesn't work as the weights don't get updated and the training loss is not decreasing. Thus I try to initialize with a normal distribution with mean at 0."
   ]
  },
  {
   "cell_type": "code",
   "execution_count": null,
   "metadata": {
    "id": "UKJfyqiG94Ha",
    "outputId": "a51f0091-7161-4f40-dc30-77543d4e3b40"
   },
   "outputs": [
    {
     "name": "stdout",
     "output_type": "stream",
     "text": [
      "[33.82500596831164, 8.364326869733041, 8.364326869733041, 8.364326869733041, 5.543859871352918, 5.184013589278458, 5.184013589278458, 5.184013589278458, 5.184013589278458, 5.184013589278458, 5.184013589278458, 5.184013589278458, 5.079867278267606, 4.924316288445828, 4.838608145781336, 4.813555183730838, 4.778597222449525, 4.638660445798875, 4.271307716209304, 3.57570023851891]\n"
     ]
    },
    {
     "data": {
      "image/png": "[encoded data removed]",
      "text/plain": [
       "<Figure size 432x288 with 1 Axes>"
      ]
     },
     "metadata": {
      "needs_background": "light",
      "tags": []
     },
     "output_type": "display_data"
    }
   ],
   "source": [
    "w = np.random.randn(16)\n",
    "neural_net_onerun(w,x,y,lum=1e-5,lum_k=1)\n",
    "w_final, train_loss_array, count = neural_net_onerun(w,x,y,lum=1e-5,lum_k=1)\n",
    "iteration = np.arange(count)+1\n",
    "plt.plot(iteration, train_loss_array)\n",
    "print(train_loss_array)"
   ]
  },
  {
   "cell_type": "markdown",
   "metadata": {
    "id": "3mV0GT2194Hb"
   },
   "source": [
    "We can see from above that initialize with range only in "
   ]
  },
  {
   "cell_type": "code",
   "execution_count": null,
   "metadata": {
    "id": "xTCrsYV894Hb",
    "outputId": "05e1f41b-59cc-47f9-fdb6-924f071f773c"
   },
   "outputs": [
    {
     "name": "stdout",
     "output_type": "stream",
     "text": [
      "[3954.176357738833, 1981.9679336812248, 1671.08183901887, 1366.5297737412927, 1232.7835190426345, 1232.7835190426345, 1232.7835190426345, 1232.7835190426345, 1232.7835190426345, 1232.7835190426345, 1232.7835190426345, 1232.7835190426345, 1232.7835190426345, 1232.7835190426345, 1232.7835190426345, 1232.7835190426345, 1232.7835190426345, 1232.7835190426345, 1232.7835190426345, 1230.195076810381]\n"
     ]
    },
    {
     "data": {
      "image/png": "[encoded data removed]",
      "text/plain": [
       "<Figure size 432x288 with 1 Axes>"
      ]
     },
     "metadata": {
      "needs_background": "light",
      "tags": []
     },
     "output_type": "display_data"
    }
   ],
   "source": [
    "w = np.random.randn(16)*10\n",
    "neural_net_onerun(w,x,y,lum=1e-5,lum_k=1)\n",
    "w_final, train_loss_array, count = neural_net_onerun(w,x,y,lum=1e-5,lum_k=1)\n",
    "iteration = np.arange(count)+1\n",
    "plt.plot(iteration, train_loss_array)\n",
    "print(train_loss_array)"
   ]
  },
  {
   "cell_type": "code",
   "execution_count": null,
   "metadata": {
    "id": "CaJjrcRh94Hb",
    "outputId": "b93b0adf-0f4a-4b3e-d803-a6afd8d4470d"
   },
   "outputs": [
    {
     "name": "stdout",
     "output_type": "stream",
     "text": [
      "[795.2782285083166, 795.2782285083166, 795.2782285083166, 795.2782285083166, 795.2782285083166, 795.2782285083166, 795.2782285083166, 795.2782285083166, 795.2782285083166, 767.932532897581, 767.932532897581, 767.932532897581, 767.932532897581, 767.932532897581, 767.932532897581, 767.932532897581, 767.932532897581, 767.932532897581, 767.932532897581, 767.932532897581]\n"
     ]
    },
    {
     "data": {
      "image/png": "[encoded data removed]",
      "text/plain": [
       "<Figure size 432x288 with 1 Axes>"
      ]
     },
     "metadata": {
      "needs_background": "light",
      "tags": []
     },
     "output_type": "display_data"
    }
   ],
   "source": [
    "w = np.random.randn(16)*100\n",
    "neural_net_onerun(w,x,y,lum=1e-5,lum_k=1)\n",
    "w_final, train_loss_array, count = neural_net_onerun(w,x,y,lum=1e-5,lum_k=1)\n",
    "iteration = np.arange(count)+1\n",
    "plt.plot(iteration, train_loss_array)\n",
    "print(train_loss_array)"
   ]
  },
  {
   "cell_type": "code",
   "execution_count": null,
   "metadata": {
    "id": "QY7-7moO94Hc",
    "outputId": "0a86bff5-b10c-4164-8872-bed1d815c02b"
   },
   "outputs": [
    {
     "name": "stdout",
     "output_type": "stream",
     "text": [
      "[82.1938412573696, 52.48350802038683, 52.48350802038683, 32.16993468258224, 32.16993468258224, 32.16993468258224, 32.16993468258224, 32.16993468258224, 21.009374367291116, 21.009374367291116, 18.746302031744694, 13.703520593694082, 8.57860992526429, 7.109380769801794, 7.0033664365268695, 5.590502605310603, 3.7471796378047557, 2.613263263304545, 2.2017653424049035, 2.2017653424049035]\n"
     ]
    },
    {
     "data": {
      "image/png": "[encoded data removed]",
      "text/plain": [
       "<Figure size 432x288 with 1 Axes>"
      ]
     },
     "metadata": {
      "needs_background": "light",
      "tags": []
     },
     "output_type": "display_data"
    }
   ],
   "source": [
    "w = np.random.randn(16)*0.01\n",
    "neural_net_onerun(w,x,y,lum=1e-5,lum_k=1)\n",
    "w_final, train_loss_array, count = neural_net_onerun(w,x,y,lum=1e-5,lum_k=1)\n",
    "iteration = np.arange(count)+1\n",
    "plt.plot(iteration, train_loss_array)\n",
    "print(train_loss_array)"
   ]
  },
  {
   "cell_type": "markdown",
   "metadata": {
    "id": "DTKqvJMI94Hc"
   },
   "source": [
    "We can see that the shape of different initializations are the same, but as the initialized weights gets smaller, it has the advantages of : 1) smaller training error at start and 2) smaller variation of final training error. So I decide to initialize with w using a normal distribution multiply by 0.01 to make it small enough."
   ]
  },
  {
   "cell_type": "markdown",
   "metadata": {
    "id": "JMV0kCoz94Hc"
   },
   "source": [
    "## Multiple run\n",
    "\n",
    "The above session shows the proper initialization of w is np.random.randn(16)*0.01. Thus I'm going to perform multiple run using the same initialization. As the none of the runs achieve residual smaller than 1 before 20 runs, I use 20 runs as a fixed iteration time in the final neural network function with multiple run, so I can stack each iteration together can get the one with the smallest train loss using vectorization."
   ]
  },
  {
   "cell_type": "code",
   "execution_count": null,
   "metadata": {
    "id": "_CNTUgUn94Hc"
   },
   "outputs": [],
   "source": [
    "def neural_net(x,y,lum,lum_k):\n",
    "    multi_run_count = 0\n",
    "    multi_run = 50\n",
    "    max_count = 20\n",
    "    \n",
    "    train_loss_all = np.empty((0, max_count))\n",
    "    w_all = np.empty((0, 16))\n",
    "    # print(train_loss_all.shape)\n",
    "    \n",
    "    while multi_run_count < multi_run:\n",
    "        w = np.random.randn(16)*0.01\n",
    "        \n",
    "        count = 0\n",
    "        train_loss_one = []\n",
    "        \n",
    "        # (np.linalg.norm(Fnn(x,w)-y) > 1) isn't used here as different matrix size can't be stack together.\n",
    "        while count<max_count :\n",
    "            w_new = get_weight(x,w,y,lum,lum_k)\n",
    "        \n",
    "            if ((np.linalg.norm(Fnn(x,w_new)-y)**2) + (lum)*(np.linalg.norm(w_new)**2)) < ((np.linalg.norm(Fnn(x,w)-y)**2) + (lum)*(np.linalg.norm(w)**2)) :\n",
    "                # accept the iterate\n",
    "                w = w_new \n",
    "                train_loss = (np.linalg.norm(Fnn(x,w)-y)**2) + (lum)*(np.linalg.norm(w)**2) \n",
    "                lum_k = 0.8*lum_k\n",
    "\n",
    "            else:\n",
    "                # not accept the iterate\n",
    "                train_loss = (np.linalg.norm(Fnn(x,w)-y)**2) + (lum)*(np.linalg.norm(w)**2)  \n",
    "                lum_k = 2*lum_k\n",
    "        \n",
    "        \n",
    "            count += 1\n",
    "            train_loss_one.append(train_loss)  \n",
    "            \n",
    "        \n",
    "        train_loss_one = np.array(train_loss_one) #(20,1)\n",
    "        train_loss_one = train_loss_one.reshape(max_count,1).T #(1,20)\n",
    "        multi_run_count += 1\n",
    "        train_loss_all = np.concatenate((train_loss_all, train_loss_one)) #(5,20)\n",
    "        w = w.reshape(1,16)\n",
    "        w_all = np.concatenate((w_all, w))\n",
    "        \n",
    "    # print(train_loss_all)    \n",
    "    min_i = np.argmin(train_loss_all[:,-1])\n",
    "    train_loss_min = train_loss_all[min_i]\n",
    "    w_min = w_all[min_i]\n",
    "    train_loss_final = train_loss_min[-1]\n",
    "    \n",
    "    return w_min, train_loss_min, train_loss_final, count"
   ]
  },
  {
   "cell_type": "code",
   "execution_count": null,
   "metadata": {
    "id": "P70wYsgN94Hd"
   },
   "outputs": [],
   "source": [
    "x = np.random.rand(500,3)\n",
    "y = x[:,0]*x[:,1]+x[:,2]"
   ]
  },
  {
   "cell_type": "markdown",
   "metadata": {
    "id": "Dkf15bfs94Hd"
   },
   "source": [
    "The same x and y is used in the following."
   ]
  },
  {
   "cell_type": "markdown",
   "metadata": {
    "id": "XNkajV0L94Hd"
   },
   "source": [
    "### Different lumda"
   ]
  },
  {
   "cell_type": "code",
   "execution_count": null,
   "metadata": {
    "id": "6SgN6Xk-94Hd",
    "outputId": "0536e2df-ad47-4940-bec1-ff5dd9c6ac26"
   },
   "outputs": [
    {
     "data": {
      "text/plain": [
       "Text(0, 0.5, 'train_loss')"
      ]
     },
     "execution_count": 16,
     "metadata": {
      "tags": []
     },
     "output_type": "execute_result"
    },
    {
     "data": {
      "image/png": "[encoded data removed]",
      "text/plain": [
       "<Figure size 432x288 with 1 Axes>"
      ]
     },
     "metadata": {
      "needs_background": "light",
      "tags": []
     },
     "output_type": "display_data"
    }
   ],
   "source": [
    "# different lumda\n",
    "lum = [1, 1e-3, 1e-5, 1e-6, 1e-7]\n",
    "\n",
    "for i in lum:\n",
    "    w_final, train_loss_min, train_loss_final, count = neural_net(x,y,lum=i, lum_k=1)\n",
    "    iteration = np.arange(count)+1\n",
    "    plt.plot(iteration, train_loss_min, label=str(i))\n",
    "\n",
    "legend = plt.legend(title='lumda',loc='upper right', shadow=True)\n",
    "\n",
    "plt.title('Training loss versus Iteration')\n",
    "plt.xlabel('Iteration')\n",
    "plt.ylabel('train_loss')"
   ]
  },
  {
   "cell_type": "markdown",
   "metadata": {
    "id": "y4MeKuVY94Hd"
   },
   "source": [
    "Using different lumda doesn't affect the shape of the train loss curve. There's no trend that suggest the train loss will be larger/smaller with a larger/smaller lumda. All curve converge to similar value. Thus, it seems that lumda doesn't have a strong effect on the performance of the neural network.\n",
    "\n",
    "### Different lumda<sub>k</sub>"
   ]
  },
  {
   "cell_type": "code",
   "execution_count": null,
   "metadata": {
    "id": "EUBz-shE94He",
    "outputId": "3377f304-ee5d-4c85-ea0e-4856f5e4f37a"
   },
   "outputs": [
    {
     "data": {
      "text/plain": [
       "Text(0, 0.5, 'train_loss')"
      ]
     },
     "execution_count": 17,
     "metadata": {
      "tags": []
     },
     "output_type": "execute_result"
    },
    {
     "data": {
      "image/png": "[encoded data removed]",
      "text/plain": [
       "<Figure size 432x288 with 1 Axes>"
      ]
     },
     "metadata": {
      "needs_background": "light",
      "tags": []
     },
     "output_type": "display_data"
    }
   ],
   "source": [
    "# different initialization of lumda_k\n",
    "lum_k = [0.1, 0.5, 1, 5, 10]\n",
    "\n",
    "for i in lum_k:\n",
    "    w_final, train_loss_min, train_loss_final, count = neural_net(x,y,lum=1e-5, lum_k=i)\n",
    "    iteration = np.arange(count)+1\n",
    "    plt.plot(iteration, train_loss_min, label=str(i))\n",
    "\n",
    "legend = plt.legend(title='lumda_k',loc='upper right', shadow=True)\n",
    "\n",
    "plt.title('Training loss versus Iteration')\n",
    "plt.xlabel('Iteration')\n",
    "plt.ylabel('train_loss')"
   ]
  },
  {
   "cell_type": "markdown",
   "metadata": {
    "id": "5HcPd5OY94He"
   },
   "source": [
    "Using different lumda<sub>k</sub> doesn't affect the shape of the train loss curve. There's no trend that suggest the train loss will be larger/smaller with a larger/smaller lumda<sub>k</sub>. All curve converge to similar value. Thus, it seems that lumda<sub>k</sub> doesn't have a strong effect on the performance of the neural network. "
   ]
  },
  {
   "cell_type": "markdown",
   "metadata": {
    "id": "2_ZBChY-94He"
   },
   "source": [
    "## Training and Testing loss by different lumda and lumda<sub>k</sub>\n",
    "\n",
    "Because the training set and testing set have different shape, I divide each loss by the number of sample contained in the set, so that I don't get smaller testing loss than training loss."
   ]
  },
  {
   "cell_type": "code",
   "execution_count": null,
   "metadata": {
    "id": "mA5sqNSJ94He"
   },
   "outputs": [],
   "source": [
    "def predict(testX,testY,trainX,trainY,lum,lum_k):\n",
    "    w, train_loss_min, train_loss, count = neural_net(trainX,trainY,lum,lum_k)\n",
    "    predictedY = Fnn(testX,w)\n",
    "    n = trainX.shape[0]\n",
    "    m = testX.shape[0]\n",
    "    \n",
    "    # normalize the loss by dividing by the size of the set\n",
    "    train_loss = (1/n)*train_loss\n",
    "    test_loss = (1/m)*((np.linalg.norm(predictedY-testY)**2) + (lum)*(np.linalg.norm(w)**2))\n",
    "    \n",
    "    return predictedY, train_loss, test_loss"
   ]
  },
  {
   "cell_type": "code",
   "execution_count": null,
   "metadata": {
    "id": "edT-t-v_94Hf",
    "outputId": "9c9f8deb-bf69-48b1-fe2a-d8f5af2d1b7e"
   },
   "outputs": [
    {
     "name": "stdout",
     "output_type": "stream",
     "text": [
      "The test loss for lum_k = 0.1 is 0.007863178137414117\n",
      "The train loss for lum_k = 0.1 is 0.007320593705451723 \n",
      "\n",
      "The test loss for lum_k = 0.5 is 0.006372294325921133\n",
      "The train loss for lum_k = 0.5 is 0.006723646293462293 \n",
      "\n",
      "The test loss for lum_k = 1 is 0.0035653925898583437\n",
      "The train loss for lum_k = 1 is 0.0033947741143564017 \n",
      "\n",
      "The test loss for lum_k = 5 is 0.00681885115173001\n",
      "The train loss for lum_k = 5 is 0.006831362859119759 \n",
      "\n",
      "The test loss for lum_k = 10 is 0.006999654092018764\n",
      "The train loss for lum_k = 10 is 0.006951904646286202 \n",
      "\n"
     ]
    }
   ],
   "source": [
    "# different lum_k\n",
    "lum_k = [0.1, 0.5, 1, 5, 10]\n",
    "testX = np.random.rand(100,3)\n",
    "testY = testX[:,0]*testX[:,1]+testX[:,2]\n",
    "\n",
    "for i in lum_k:\n",
    "    predictedY, train_loss, test_loss = predict(testX,testY,x,y, lum=1e-5 ,lum_k=i)\n",
    "    print('The test loss for lum_k =', i, 'is', test_loss)\n",
    "    print('The train loss for lum_k =', i, 'is', train_loss, '\\n')"
   ]
  },
  {
   "cell_type": "code",
   "execution_count": null,
   "metadata": {
    "id": "Bq6F_Mqj94Hf",
    "outputId": "f64ead3f-552e-4e7f-9c89-bbb7f9d9e96a"
   },
   "outputs": [
    {
     "name": "stdout",
     "output_type": "stream",
     "text": [
      "The test loss for lum_k = 1 is 0.05301596753103573\n",
      "The train loss for lum_k = 1 is 0.016376114043076997 \n",
      "\n",
      "The test loss for lum_k = 0.001 is 0.009594841283701248\n",
      "The train loss for lum_k = 0.001 is 0.007218516435593448 \n",
      "\n",
      "The test loss for lum_k = 1e-05 is 0.009487532689089341\n",
      "The train loss for lum_k = 1e-05 is 0.0068770208431815135 \n",
      "\n",
      "The test loss for lum_k = 1e-06 is 0.008735289152816713\n",
      "The train loss for lum_k = 1e-06 is 0.006655576153146661 \n",
      "\n",
      "The test loss for lum_k = 1e-07 is 0.008414807594417756\n",
      "The train loss for lum_k = 1e-07 is 0.006526533386224581 \n",
      "\n"
     ]
    }
   ],
   "source": [
    "# different lum\n",
    "lum = [1, 1e-3, 1e-5, 1e-6, 1e-7]\n",
    "testX = np.random.rand(100,3)\n",
    "testY = testX[:,0]*testX[:,1]+testX[:,2]\n",
    "\n",
    "for i in lum:\n",
    "    predictedY, train_loss, test_loss = predict(testX,testY,x,y, lum=i ,lum_k=1)\n",
    "    print('The test loss for lum_k =', i, 'is', test_loss)\n",
    "    print('The train loss for lum_k =', i, 'is', train_loss, '\\n')"
   ]
  },
  {
   "cell_type": "markdown",
   "metadata": {
    "id": "tsiIwvMX94Hf"
   },
   "source": [
    "It follows the same conclusion as shown by the train loss curve that changes in these two values don't have a strong effect on the performance of the network function."
   ]
  },
  {
   "cell_type": "markdown",
   "metadata": {
    "id": "8En16N3394Hf"
   },
   "source": [
    "### Different N<sub>T</sub>"
   ]
  },
  {
   "cell_type": "code",
   "execution_count": null,
   "metadata": {
    "id": "Zramuc9x94Hg",
    "outputId": "3e3c755a-559e-49ef-87e1-168ff9997948"
   },
   "outputs": [
    {
     "name": "stdout",
     "output_type": "stream",
     "text": [
      "The test loss for N = 50 is 0.12972754258623687\n",
      "The train loss for N = 50 is 0.007151137078108898 \n",
      "\n"
     ]
    }
   ],
   "source": [
    "# different N\n",
    "testX = np.random.rand(50,3)\n",
    "testY = testX[:,0]*testX[:,1]+testX[:,2]\n",
    "\n",
    "predictedY, train_loss, test_loss = predict(testX,testY,x,y, lum=1e-5 ,lum_k=1)\n",
    "print('The test loss for N = 50', 'is', test_loss)\n",
    "print('The train loss for N = 50', 'is', train_loss, '\\n')"
   ]
  },
  {
   "cell_type": "code",
   "execution_count": null,
   "metadata": {
    "id": "A5gJFQEd94Hg",
    "outputId": "b3bc3dcf-0f2d-4a6f-ef9e-a2969c9e7be9"
   },
   "outputs": [
    {
     "name": "stdout",
     "output_type": "stream",
     "text": [
      "The test loss for N = 100 is 0.004111178149860293\n",
      "The train loss for N = 100 is 0.006297455262726199 \n",
      "\n"
     ]
    }
   ],
   "source": [
    "testX = np.random.rand(100,3)\n",
    "testY = testX[:,0]*testX[:,1]+testX[:,2]\n",
    "\n",
    "predictedY, train_loss, test_loss = predict(testX,testY,x,y, lum=1e-5 ,lum_k=1)\n",
    "print('The test loss for N = 100', 'is', test_loss)\n",
    "print('The train loss for N = 100', 'is', train_loss, '\\n')"
   ]
  },
  {
   "cell_type": "code",
   "execution_count": null,
   "metadata": {
    "id": "07mt0aOK94Hg",
    "outputId": "8f2a2219-0b30-4161-e9f7-7f18bc324762"
   },
   "outputs": [
    {
     "name": "stdout",
     "output_type": "stream",
     "text": [
      "The test loss for N = 200 is 0.006762117300337144\n",
      "The train loss for N = 200 is 0.006751055451864832 \n",
      "\n"
     ]
    }
   ],
   "source": [
    "testX = np.random.rand(200,3)\n",
    "testY = testX[:,0]*testX[:,1]+testX[:,2]\n",
    "\n",
    "predictedY, train_loss, test_loss = predict(testX,testY,x,y, lum=1e-5 ,lum_k=1)\n",
    "print('The test loss for N = 200', 'is', test_loss)\n",
    "print('The train loss for N = 200', 'is', train_loss, '\\n')"
   ]
  },
  {
   "cell_type": "code",
   "execution_count": null,
   "metadata": {
    "id": "WsZB0Mt894Hg",
    "outputId": "03599349-f643-42d7-c118-ea8ef6967c5d"
   },
   "outputs": [
    {
     "name": "stdout",
     "output_type": "stream",
     "text": [
      "The test loss for N = 300 is 0.004951998058064192\n",
      "The train loss for N = 300 is 0.006916611150757653 \n",
      "\n"
     ]
    }
   ],
   "source": [
    "testX = np.random.rand(300,3)\n",
    "testY = testX[:,0]*testX[:,1]+testX[:,2]\n",
    "\n",
    "predictedY, train_loss, test_loss = predict(testX,testY,x,y, lum=1e-5 ,lum_k=1)\n",
    "\n",
    "print('The test loss for N = 300', 'is', test_loss)\n",
    "print('The train loss for N = 300', 'is', train_loss, '\\n')"
   ]
  },
  {
   "cell_type": "markdown",
   "metadata": {
    "id": "flsHwp9h94Hh"
   },
   "source": [
    "A larger testing set seems to have a smaller normalized loss. With same x and y, the variation of the training loss comes from different initial weights in multiple runs."
   ]
  },
  {
   "cell_type": "markdown",
   "metadata": {
    "id": "aafuh7jA94Hh"
   },
   "source": [
    "## Another function\n",
    "\n",
    "All the codes are the same and the same neural network is applied. The only difference is the way that defines Y. In this second function, y=(x<sub>1</sub>^2)x<sub>2</sub>+x<sub>2</sub>x<sub>3</sub>."
   ]
  },
  {
   "cell_type": "code",
   "execution_count": null,
   "metadata": {
    "id": "4WMQJGvv94Hh"
   },
   "outputs": [],
   "source": [
    "x = np.random.rand(500,3)\n",
    "y = (x[:,0]**2)*x[:,1] + x[:,1]*x[:,2]"
   ]
  },
  {
   "cell_type": "code",
   "execution_count": null,
   "metadata": {
    "id": "8VYtuSKN94Hh",
    "outputId": "9e65cb72-d725-43b3-ab39-31a617c4ce27"
   },
   "outputs": [
    {
     "data": {
      "text/plain": [
       "Text(0, 0.5, 'train_loss')"
      ]
     },
     "execution_count": 26,
     "metadata": {
      "tags": []
     },
     "output_type": "execute_result"
    },
    {
     "data": {
      "image/png": "[encoded data removed]",
      "text/plain": [
       "<Figure size 432x288 with 1 Axes>"
      ]
     },
     "metadata": {
      "needs_background": "light",
      "tags": []
     },
     "output_type": "display_data"
    }
   ],
   "source": [
    "# different lumda\n",
    "lum = [1, 1e-3, 1e-5, 1e-6, 1e-7]\n",
    "\n",
    "for i in lum:\n",
    "    w_final, train_loss_min, train_loss_final, count = neural_net(x,y,lum=i, lum_k=1)\n",
    "    iteration = np.arange(count)+1\n",
    "    plt.plot(iteration, train_loss_min, label=str(i))\n",
    "\n",
    "legend = plt.legend(title='lumda',loc='upper right', shadow=True)\n",
    "\n",
    "plt.title('Training loss versus Iteration')\n",
    "plt.xlabel('Iteration')\n",
    "plt.ylabel('train_loss')"
   ]
  },
  {
   "cell_type": "code",
   "execution_count": null,
   "metadata": {
    "id": "8Vu4AQ4E94Hh",
    "outputId": "a705b7a1-b063-4485-f627-ea882f6c3ce8"
   },
   "outputs": [
    {
     "data": {
      "text/plain": [
       "Text(0, 0.5, 'train_loss')"
      ]
     },
     "execution_count": 27,
     "metadata": {
      "tags": []
     },
     "output_type": "execute_result"
    },
    {
     "data": {
      "image/png": "[encoded data removed]",
      "text/plain": [
       "<Figure size 432x288 with 1 Axes>"
      ]
     },
     "metadata": {
      "needs_background": "light",
      "tags": []
     },
     "output_type": "display_data"
    }
   ],
   "source": [
    "# different initialization of lumda_k\n",
    "lum_k = [0.1, 0.5, 1, 5, 10]\n",
    "\n",
    "for i in lum_k:\n",
    "    w_final, train_loss_min, train_loss_final, count = neural_net(x,y,lum=1e-5, lum_k=i)\n",
    "    iteration = np.arange(count)+1\n",
    "    plt.plot(iteration, train_loss_min, label=str(i))\n",
    "\n",
    "legend = plt.legend(title='lumda_k',loc='upper right', shadow=True)\n",
    "\n",
    "plt.title('Training loss versus Iteration')\n",
    "plt.xlabel('Iteration')\n",
    "plt.ylabel('train_loss')"
   ]
  },
  {
   "cell_type": "code",
   "execution_count": null,
   "metadata": {
    "id": "fpngRlC194Hi",
    "outputId": "4b13decf-9a66-4267-e922-8e1d828c2ca1"
   },
   "outputs": [
    {
     "name": "stdout",
     "output_type": "stream",
     "text": [
      "The test loss for lum_k = 0.1 is 0.13066660736599978\n",
      "The train loss for lum_k = 0.1 is 0.007813646207400809 \n",
      "\n",
      "The test loss for lum_k = 0.5 is 0.14518867777685945\n",
      "The train loss for lum_k = 0.5 is 0.007435724971629694 \n",
      "\n",
      "The test loss for lum_k = 1 is 0.13598072774364842\n",
      "The train loss for lum_k = 1 is 0.006897276503604391 \n",
      "\n",
      "The test loss for lum_k = 5 is 0.1328860818614327\n",
      "The train loss for lum_k = 5 is 0.0064956624552979046 \n",
      "\n",
      "The test loss for lum_k = 10 is 0.14155157400309423\n",
      "The train loss for lum_k = 10 is 0.0066094867174890095 \n",
      "\n"
     ]
    }
   ],
   "source": [
    "# different lum_k\n",
    "lum_k = [0.1, 0.5, 1, 5, 10]\n",
    "testX = np.random.rand(100,3)\n",
    "testY = testX[:,0]*testX[:,1]+testX[:,2]\n",
    "\n",
    "for i in lum_k:\n",
    "    predictedY, train_loss, test_loss = predict(testX,testY,x,y, lum=1e-5 ,lum_k=i)\n",
    "    print('The test loss for lum_k =', i, 'is', test_loss)\n",
    "    print('The train loss for lum_k =', i, 'is', train_loss, '\\n')"
   ]
  },
  {
   "cell_type": "code",
   "execution_count": null,
   "metadata": {
    "id": "tvA8L4CI94Hi",
    "outputId": "689f85c6-ab1e-419f-fac2-0d22ab40268e"
   },
   "outputs": [
    {
     "name": "stdout",
     "output_type": "stream",
     "text": [
      "The test loss for lum_k = 1 is 0.2458128681592488\n",
      "The train loss for lum_k = 1 is 0.020998302123190715 \n",
      "\n",
      "The test loss for lum_k = 0.001 is 0.1815789017218947\n",
      "The train loss for lum_k = 0.001 is 0.008392952070240723 \n",
      "\n",
      "The test loss for lum_k = 1e-05 is 0.1937712812532741\n",
      "The train loss for lum_k = 1e-05 is 0.007826241652786928 \n",
      "\n",
      "The test loss for lum_k = 1e-06 is 0.1985073381175571\n",
      "The train loss for lum_k = 1e-06 is 0.007252785725176227 \n",
      "\n",
      "The test loss for lum_k = 1e-07 is 0.15266734985511446\n",
      "The train loss for lum_k = 1e-07 is 0.00655777936926814 \n",
      "\n"
     ]
    }
   ],
   "source": [
    "# different lum\n",
    "lum = [1, 1e-3, 1e-5, 1e-6, 1e-7]\n",
    "testX = np.random.rand(100,3)\n",
    "testY = testX[:,0]*testX[:,1]+testX[:,2]\n",
    "\n",
    "for i in lum:\n",
    "    predictedY, train_loss, test_loss = predict(testX,testY,x,y, lum=i ,lum_k=1)\n",
    "    print('The test loss for lum_k =', i, 'is', test_loss)\n",
    "    print('The train loss for lum_k =', i, 'is', train_loss, '\\n')"
   ]
  },
  {
   "cell_type": "code",
   "execution_count": null,
   "metadata": {
    "id": "-17tltlz94Hi",
    "outputId": "7020b84e-8e6a-4872-99e9-73657d6c6b3b"
   },
   "outputs": [
    {
     "name": "stdout",
     "output_type": "stream",
     "text": [
      "The test loss for N = 50 is 0.14859727144403526\n",
      "The train loss for N = 50 is 0.008969251562782063 \n",
      "\n",
      "The test loss for N = 100 is 0.15226532102262882\n",
      "The train loss for N = 100 is 0.006548678255853991 \n",
      "\n",
      "The test loss for N = 200 is 0.16575532980494972\n",
      "The train loss for N = 200 is 0.006147769190846043 \n",
      "\n",
      "The test loss for N = 300 is 0.1311612022753853\n",
      "The train loss for N = 300 is 0.006909290039167565 \n",
      "\n"
     ]
    }
   ],
   "source": [
    "# different N\n",
    "testX = np.random.rand(50,3)\n",
    "testY = testX[:,0]*testX[:,1]+testX[:,2]\n",
    "\n",
    "predictedY, train_loss, test_loss = predict(testX,testY,x,y, lum=1e-5 ,lum_k=1)\n",
    "print('The test loss for N = 50', 'is', test_loss)\n",
    "print('The train loss for N = 50', 'is', train_loss, '\\n')\n",
    "\n",
    "testX = np.random.rand(100,3)\n",
    "testY = testX[:,0]*testX[:,1]+testX[:,2]\n",
    "\n",
    "predictedY, train_loss, test_loss = predict(testX,testY,x,y, lum=1e-5 ,lum_k=1)\n",
    "print('The test loss for N = 100', 'is', test_loss)\n",
    "print('The train loss for N = 100', 'is', train_loss, '\\n')\n",
    "\n",
    "testX = np.random.rand(200,3)\n",
    "testY = testX[:,0]*testX[:,1]+testX[:,2]\n",
    "\n",
    "predictedY, train_loss, test_loss = predict(testX,testY,x,y, lum=1e-5 ,lum_k=1)\n",
    "print('The test loss for N = 200', 'is', test_loss)\n",
    "print('The train loss for N = 200', 'is', train_loss, '\\n')\n",
    "\n",
    "testX = np.random.rand(300,3)\n",
    "testY = testX[:,0]*testX[:,1]+testX[:,2]\n",
    "\n",
    "predictedY, train_loss, test_loss = predict(testX,testY,x,y, lum=1e-5 ,lum_k=1)\n",
    "\n",
    "print('The test loss for N = 300', 'is', test_loss)\n",
    "print('The train loss for N = 300', 'is', train_loss, '\\n')"
   ]
  },
  {
   "cell_type": "markdown",
   "metadata": {
    "id": "-ZiYZ9zn94Hi"
   },
   "source": [
    "The training curve doesn't show much difference in the second function. All the conclusion regarding different lumda, different lumda<sub>k</sub> and different N<sub>T</sub> also hold for this second function. The value of the training loss is similar compare to the first one, but the testing loss is significantly larger. It may show that the performance of the neural network decreases with more complex functions. As this project we're only using one layer, multiple layers probably will solve more complex functions better."
   ]
  }
 ],
 "metadata": {
  "colab": {
   "name": "Rita_Mini Project 2.ipynb",
   "provenance": []
  },
  "kernelspec": {
   "display_name": "Python 3 (ipykernel)",
   "language": "python",
   "name": "python3"
  },
  "language_info": {
   "codemirror_mode": {
    "name": "ipython",
    "version": 3
   },
   "file_extension": ".py",
   "mimetype": "text/x-python",
   "name": "python",
   "nbconvert_exporter": "python",
   "pygments_lexer": "ipython3",
   "version": "3.9.13"
  }
 },
 "nbformat": 4,
 "nbformat_minor": 1
}
